{
 "cells": [
  {
   "cell_type": "code",
   "execution_count": 1,
   "metadata": {
    "collapsed": false
   },
   "outputs": [],
   "source": [
    "from sklearn.datasets import fetch_20newsgroups\n",
    "from pprint import pprint\n",
    "cats = ['alt.atheism',\n",
    " 'comp.sys.ibm.pc.hardware',\n",
    " 'sci.space',\n",
    " 'soc.religion.christian',\n",
    " 'talk.religion.misc']\n",
    "newsgroups_train = fetch_20newsgroups(subset='train', categories=cats)"
   ]
  },
  {
   "cell_type": "markdown",
   "metadata": {},
   "source": [
    "***Categorías del dataset***"
   ]
  },
  {
   "cell_type": "code",
   "execution_count": 2,
   "metadata": {
    "collapsed": false
   },
   "outputs": [
    {
     "name": "stdout",
     "output_type": "stream",
     "text": [
      "['alt.atheism',\n",
      " 'comp.sys.ibm.pc.hardware',\n",
      " 'sci.space',\n",
      " 'soc.religion.christian',\n",
      " 'talk.religion.misc']\n"
     ]
    }
   ],
   "source": [
    "pprint(list(newsgroups_train.target_names))"
   ]
  },
  {
   "cell_type": "markdown",
   "metadata": {},
   "source": [
    "***Cantidad de archivos del dataset***"
   ]
  },
  {
   "cell_type": "code",
   "execution_count": 3,
   "metadata": {
    "collapsed": false
   },
   "outputs": [
    {
     "data": {
      "text/plain": [
       "2639"
      ]
     },
     "execution_count": 3,
     "metadata": {},
     "output_type": "execute_result"
    }
   ],
   "source": [
    "newsgroups_train.target.shape[0]"
   ]
  },
  {
   "cell_type": "markdown",
   "metadata": {},
   "source": [
    "***Primeras 30 líneas del mensaje***"
   ]
  },
  {
   "cell_type": "code",
   "execution_count": 4,
   "metadata": {
    "collapsed": false
   },
   "outputs": [
    {
     "name": "stdout",
     "output_type": "stream",
     "text": [
      "From: halat@pooh.bears (Jim Halat)\n",
      "Subject: Re: After 2000 years, can we say that Christian Morality is\n",
      "Reply-To: halat@pooh.bears (Jim Halat)\n",
      "Lines: 34\n",
      "\n",
      "In article <1qjd3o$nlv@horus.ap.mchp.sni.de>, frank@D012S658.uucp (Frank O'Dwyer) writes:\n",
      ">Firstly, science has its basis in values, not the other way round.\n",
      ">So you better explain what objective atoms are, and how we get them\n",
      ">from subjective values, before we go any further.\n",
      "\n",
      "\n",
      "Atoms are not objective.  They aren't even real.  What scientists call\n",
      "an atom is nothing more than a mathematical model that describes \n",
      "certain physical, observable properties of our surroundings.  All\n",
      "of which is subjective.  \n",
      "\n",
      "What is objective, though, is the approach a scientist \n",
      "takes in discussing his model and his observations.  There\n",
      "is no objective science.  But there is an objective approach\n",
      "which is subjectively selected by the scientist.  Objective\n",
      "in this case means a specified, unchanging set of rules that\n",
      "he and his colleagues use to discuss their science.\n",
      "\n",
      "This is in contrast to your Objective Morality.  There may be an\n",
      "objective approach to subjectively discuss your beliefs on\n",
      "morality.  But there exists no objective morality.\n",
      "\n",
      "Also, science deals with how we can discuss our observations of \n",
      "the physical world around us.  In that the method of discussion\n",
      "is objective ( not the science; not the discussion itself ).\n"
     ]
    }
   ],
   "source": [
    "indice_cuarto_archivo = 3\n",
    "cuarto_archivo = newsgroups_train.data[indice_cuarto_archivo]\n",
    "lineas = cuarto_archivo.split('\\n')[:30]\n",
    "print ''.join(map(str,'\\n'.join(lineas)))"
   ]
  },
  {
   "cell_type": "markdown",
   "metadata": {},
   "source": [
    "***Tema del mensaje***"
   ]
  },
  {
   "cell_type": "code",
   "execution_count": 5,
   "metadata": {
    "collapsed": false
   },
   "outputs": [
    {
     "name": "stdout",
     "output_type": "stream",
     "text": [
      "talk.religion.misc\n"
     ]
    }
   ],
   "source": [
    "print newsgroups_train.target_names[newsgroups_train.target[indice_cuarto_archivo]]"
   ]
  },
  {
   "cell_type": "markdown",
   "metadata": {},
   "source": [
    "*** Categoría, tema? de los primeros 20 mensajes ***"
   ]
  },
  {
   "cell_type": "code",
   "execution_count": 6,
   "metadata": {
    "collapsed": false
   },
   "outputs": [
    {
     "name": "stdout",
     "output_type": "stream",
     "text": [
      "['alt.atheism',\n",
      " 'alt.atheism',\n",
      " 'sci.space',\n",
      " 'talk.religion.misc',\n",
      " 'alt.atheism',\n",
      " 'soc.religion.christian',\n",
      " 'comp.sys.ibm.pc.hardware',\n",
      " 'sci.space',\n",
      " 'talk.religion.misc',\n",
      " 'sci.space',\n",
      " 'sci.space',\n",
      " 'soc.religion.christian',\n",
      " 'talk.religion.misc',\n",
      " 'alt.atheism',\n",
      " 'sci.space',\n",
      " 'sci.space',\n",
      " 'comp.sys.ibm.pc.hardware',\n",
      " 'talk.religion.misc',\n",
      " 'alt.atheism']\n"
     ]
    }
   ],
   "source": [
    "pprint([newsgroups_train.target_names[newsgroups_train.target[a]] for a in range(0,19)])"
   ]
  },
  {
   "cell_type": "markdown",
   "metadata": {},
   "source": [
    "***Sobre los metadatos***\n",
    "\n",
    "Los metadatos pueden en infuir en la categorización, en primer lugar hay palabras que se repiten para todos los temas: 'Subject', 'From' y hay otras que no tienen relación directamente con el tema pero podrían influir negativamente: una dirección de email puede escribir habitualmente sobre un tema y esporádicamente sobre otro, sin embargo ésto no debería pesar en la categorización. Lo anterior es un caso de overfitting de los datos."
   ]
  },
  {
   "cell_type": "markdown",
   "metadata": {},
   "source": [
    "***Se eliminan los metadatos***"
   ]
  },
  {
   "cell_type": "code",
   "execution_count": 7,
   "metadata": {
    "collapsed": false
   },
   "outputs": [],
   "source": [
    "from sklearn.datasets import fetch_20newsgroups\n",
    "from pprint import pprint\n",
    "newsgroups_train = fetch_20newsgroups(subset='train', categories=cats,remove=('headers'))"
   ]
  },
  {
   "cell_type": "code",
   "execution_count": 8,
   "metadata": {
    "collapsed": false
   },
   "outputs": [
    {
     "name": "stdout",
     "output_type": "stream",
     "text": [
      "In article <1qjd3o$nlv@horus.ap.mchp.sni.de>, frank@D012S658.uucp (Frank O'Dwyer) writes:\n",
      ">Firstly, science has its basis in values, not the other way round.\n",
      ">So you better explain what objective atoms are, and how we get them\n",
      ">from subjective values, before we go any further.\n",
      "\n",
      "\n",
      "Atoms are not objective.  They aren't even real.  What scientists call\n",
      "an atom is nothing more than a mathematical model that describes \n",
      "certain physical, observable properties of our surroundings.  All\n",
      "of which is subjective.  \n",
      "\n",
      "What is objective, though, is the approach a scientist \n",
      "takes in discussing his model and his observations.  There\n",
      "is no objective science.  But there is an objective approach\n",
      "which is subjectively selected by the scientist.  Objective\n",
      "in this case means a specified, unchanging set of rules that\n",
      "he and his colleagues use to discuss their science.\n",
      "\n",
      "This is in contrast to your Objective Morality.  There may be an\n",
      "objective approach to subjectively discuss your beliefs on\n",
      "morality.  But there exists no objective morality.\n",
      "\n",
      "Also, science deals with how we can discuss our observations of \n",
      "the physical world around us.  In that the method of discussion\n",
      "is objective ( not the science; not the discussion itself ).\n",
      "\n",
      "Science makes no claims to know the whys or even the hows sometimes\n",
      "of what we can observe.  It simply gives us a way to discuss our\n",
      "surroundings in a meaningful, consistent way.\n",
      "\n"
     ]
    }
   ],
   "source": [
    "cuarto_archivo = newsgroups_train.data[indice_cuarto_archivo]\n",
    "lineas = cuarto_archivo.split('\\n')[:30]\n",
    "print ''.join(map(str,'\\n'.join(lineas)))"
   ]
  },
  {
   "cell_type": "markdown",
   "metadata": {},
   "source": [
    "***Modelo vectorial***\n",
    "\n",
    "La extracción de atributos consiste en transformar datos en general como texto o imágenes en atributos numéricos utilizables en métodos de aprendizaje automático. Cuando se trata de texto resulta imposible introducir una secuencia de simbolos de largo variable en los algoritmos de aprendizaje automático ya que la mayoría de ellos espera vectores de atributos númericos de tamaño fijo. La alternativa consiste en tokenizar los textos de forma de dividirlos en simbolos independientes llamados tokens utilizando los espacios y la puntuación, para posteriormente contar las ocurrencias de dichos tokens y normalizar el resultado. Cada token será considerado un atributo y la representación se denomina **Bag-Of-Words**. Dicha representación no considera el orden original de los tokens en el texto. **Count Vectorizer** es una implementación de extración de atributos de texto que realiza la tokenización y el conteo de las ocurrencias de cada token, **TfidfVectorizer** realiza además la normalización de dicho conteo: sucede que existen cierto tipo de palabras como los artículos que se repiten en la gran mayoría de los textos y que tienen poco significado real en el significado del texto, sin normalización el conteo de éste tipo de palabras podrían restar importancia de otras palabras menos frecuentes pero más significativas en los algoritmos utilizados."
   ]
  },
  {
   "cell_type": "markdown",
   "metadata": {},
   "source": [
    "**falta:  qué es tf-idf y cómo se implementa en Python.**"
   ]
  },
  {
   "cell_type": "code",
   "execution_count": 2,
   "metadata": {
    "collapsed": false
   },
   "outputs": [
    {
     "ename": "NameError",
     "evalue": "name 'newsgroups_train' is not defined",
     "output_type": "error",
     "traceback": [
      "\u001b[1;31m---------------------------------------------------------------------------\u001b[0m",
      "\u001b[1;31mNameError\u001b[0m                                 Traceback (most recent call last)",
      "\u001b[1;32m<ipython-input-2-11e168932b04>\u001b[0m in \u001b[0;36m<module>\u001b[1;34m()\u001b[0m\n\u001b[0;32m      1\u001b[0m \u001b[1;32mfrom\u001b[0m \u001b[0msklearn\u001b[0m\u001b[1;33m.\u001b[0m\u001b[0mfeature_extraction\u001b[0m\u001b[1;33m.\u001b[0m\u001b[0mtext\u001b[0m \u001b[1;32mimport\u001b[0m \u001b[0mTfidfVectorizer\u001b[0m\u001b[1;33m\u001b[0m\u001b[0m\n\u001b[0;32m      2\u001b[0m \u001b[0mvectorizer\u001b[0m \u001b[1;33m=\u001b[0m \u001b[0mTfidfVectorizer\u001b[0m\u001b[1;33m(\u001b[0m\u001b[1;33m)\u001b[0m\u001b[1;33m\u001b[0m\u001b[0m\n\u001b[1;32m----> 3\u001b[1;33m \u001b[0mvectors\u001b[0m \u001b[1;33m=\u001b[0m \u001b[0mvectorizer\u001b[0m\u001b[1;33m.\u001b[0m\u001b[0mfit_transform\u001b[0m\u001b[1;33m(\u001b[0m\u001b[0mnewsgroups_train\u001b[0m\u001b[1;33m.\u001b[0m\u001b[0mdata\u001b[0m\u001b[1;33m)\u001b[0m\u001b[1;33m\u001b[0m\u001b[0m\n\u001b[0m",
      "\u001b[1;31mNameError\u001b[0m: name 'newsgroups_train' is not defined"
     ]
    }
   ],
   "source": [
    "from sklearn.feature_extraction.text import TfidfVectorizer\n",
    "vectorizer = TfidfVectorizer()\n",
    "vectors = vectorizer.fit_transform(newsgroups_train.data)"
   ]
  },
  {
   "cell_type": "markdown",
   "metadata": {},
   "source": [
    "***Tamaño del vocabulario:***"
   ]
  },
  {
   "cell_type": "code",
   "execution_count": 1,
   "metadata": {
    "collapsed": false
   },
   "outputs": [
    {
     "ename": "NameError",
     "evalue": "name 'vectors' is not defined",
     "output_type": "error",
     "traceback": [
      "\u001b[1;31m---------------------------------------------------------------------------\u001b[0m",
      "\u001b[1;31mNameError\u001b[0m                                 Traceback (most recent call last)",
      "\u001b[1;32m<ipython-input-1-0f1f3b1d31d6>\u001b[0m in \u001b[0;36m<module>\u001b[1;34m()\u001b[0m\n\u001b[1;32m----> 1\u001b[1;33m \u001b[0mvectors\u001b[0m\u001b[1;33m.\u001b[0m\u001b[0mshape\u001b[0m\u001b[1;33m[\u001b[0m\u001b[1;36m1\u001b[0m\u001b[1;33m]\u001b[0m\u001b[1;33m\u001b[0m\u001b[0m\n\u001b[0m",
      "\u001b[1;31mNameError\u001b[0m: name 'vectors' is not defined"
     ]
    }
   ],
   "source": [
    "vectors.shape[1]"
   ]
  },
  {
   "cell_type": "markdown",
   "metadata": {},
   "source": [
    "***Tamaño maximo de un documento:***"
   ]
  },
  {
   "cell_type": "code",
   "execution_count": null,
   "metadata": {
    "collapsed": false
   },
   "outputs": [],
   "source": []
  },
  {
   "cell_type": "markdown",
   "metadata": {},
   "source": [
    "Conclusion: array esparso...."
   ]
  },
  {
   "cell_type": "code",
   "execution_count": null,
   "metadata": {
    "collapsed": false
   },
   "outputs": [],
   "source": []
  },
  {
   "cell_type": "markdown",
   "metadata": {},
   "source": [
    "***Categorización***"
   ]
  },
  {
   "cell_type": "code",
   "execution_count": null,
   "metadata": {
    "collapsed": false
   },
   "outputs": [],
   "source": [
    "#Vectorizo el conjunto de test\n",
    "newsgroups_test = fetch_20newsgroups(subset='test',categories=cats,remove=('headers'))\n",
    "vectors_test = vectorizer.transform(newsgroups_test.data)"
   ]
  },
  {
   "cell_type": "code",
   "execution_count": null,
   "metadata": {
    "collapsed": true
   },
   "outputs": [],
   "source": [
    "#Metodo Naive Bayes Multinomial\n",
    "from sklearn.naive_bayes import MultinomialNB\n",
    "clf = MultinomialNB(alpha=.01)\n",
    "clf.fit(vectors, newsgroups_train.target)\n",
    "pred = clf.predict(vectors_test)\n",
    "print metrics.f1_score(newsgroups_test.target, pred, average='weighted')\n",
    "confusion_matrix(newsgroups_test.target,pred)"
   ]
  },
  {
   "cell_type": "code",
   "execution_count": null,
   "metadata": {
    "collapsed": false
   },
   "outputs": [],
   "source": [
    "#Metodo stochastic gradient descent\n",
    "from sklearn.linear_model import SGDClassifier\n",
    "clf = SGDClassifier()\n",
    "clf.fit(vectors, newsgroups_train.target)\n",
    "pred = clf.predict(vectors_test)\n",
    "metrics.f1_score(newsgroups_test.target, pred, average='weighted')"
   ]
  },
  {
   "cell_type": "code",
   "execution_count": null,
   "metadata": {
    "collapsed": true
   },
   "outputs": [],
   "source": []
  }
 ],
 "metadata": {
  "kernelspec": {
   "display_name": "Python 2",
   "language": "python",
   "name": "python2"
  },
  "language_info": {
   "codemirror_mode": {
    "name": "ipython",
    "version": 2
   },
   "file_extension": ".py",
   "mimetype": "text/x-python",
   "name": "python",
   "nbconvert_exporter": "python",
   "pygments_lexer": "ipython2",
   "version": "2.7.6"
  }
 },
 "nbformat": 4,
 "nbformat_minor": 0
}
