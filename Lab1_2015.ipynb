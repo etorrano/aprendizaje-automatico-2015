{
 "cells": [
  {
   "cell_type": "markdown",
   "metadata": {},
   "source": [
    "## Datos de la entrega"
   ]
  },
  {
   "cell_type": "markdown",
   "metadata": {},
   "source": [
    "** Número de Grupo:** 10"
   ]
  },
  {
   "cell_type": "markdown",
   "metadata": {},
   "source": [
    "**Integrantes**\n",
    "Emiliano Torrano - CI: 4.477.588-5\n",
    "Raúl Speroni - CI: \n",
    "Santiago Behak - CI:"
   ]
  },
  {
   "cell_type": "markdown",
   "metadata": {},
   "source": [
    "## Preparación del entorno"
   ]
  },
  {
   "cell_type": "code",
   "execution_count": 1,
   "metadata": {
    "collapsed": false
   },
   "outputs": [],
   "source": [
    "%matplotlib inline"
   ]
  },
  {
   "cell_type": "code",
   "execution_count": 2,
   "metadata": {
    "collapsed": false
   },
   "outputs": [],
   "source": [
    "import numpy as np\n",
    "\n",
    "import matplotlib.pyplot as plt\n",
    "\n",
    "import sklearn\n",
    "\n",
    "import pandas as pd\n"
   ]
  },
  {
   "cell_type": "markdown",
   "metadata": {
    "collapsed": true
   },
   "source": [
    "1- Si el entorno está correctamente instalado, las líneas de código anteriores deben importar los paquetes \n",
    "sin ningún error.\n",
    "\n",
    "2- El primer comando *%matplotlib inline*  habilita gráficos que se desplegarán en el propio notebook.\n",
    "\n",
    "3- Para el resto de las preguntas y soluciones de código, se puede definir  más celdas si se considera necesario.\n"
   ]
  },
  {
   "cell_type": "markdown",
   "metadata": {},
   "source": [
    "## Carga y estudio de datos"
   ]
  },
  {
   "cell_type": "markdown",
   "metadata": {},
   "source": [
    "Cargue los datos desde el archivo *permisos_construccion.csv*. Para esto puede utilizar la librería *pandas* con su función *read_csv*. Imprima cantidad de filas y columnas del *dataframe* resultante"
   ]
  },
  {
   "cell_type": "code",
   "execution_count": 3,
   "metadata": {
    "collapsed": false
   },
   "outputs": [
    {
     "name": "stdout",
     "output_type": "stream",
     "text": [
      "Columnas: 11\n",
      "Filas: 29569\n"
     ]
    }
   ],
   "source": [
    "df = pd.read_csv('permisos_construccion_ccz.csv',sep=';')\n",
    "cantidadColumnasOriginal = len(df.columns);\n",
    "cantidadFilasOriginal = len(df.index);\n",
    "print \"Columnas: \"+ str(cantidadColumnasOriginal)\n",
    "print \"Filas: \"+ str(cantidadFilasOriginal)\n"
   ]
  },
  {
   "cell_type": "markdown",
   "metadata": {},
   "source": [
    "Para los atributos numéricos despliegue un cuadro resumen con datos generales como cantidad de instancias, media, desviación estándar, etc., utilizando la biblioteca *pandas*"
   ]
  },
  {
   "cell_type": "code",
   "execution_count": 4,
   "metadata": {
    "collapsed": false
   },
   "outputs": [
    {
     "data": {
      "text/html": [
       "<div>\n",
       "<table border=\"1\" class=\"dataframe\">\n",
       "  <thead>\n",
       "    <tr style=\"text-align: right;\">\n",
       "      <th></th>\n",
       "      <th>padron</th>\n",
       "      <th>puerta</th>\n",
       "      <th>anio</th>\n",
       "      <th>mes</th>\n",
       "      <th>CCZ</th>\n",
       "    </tr>\n",
       "  </thead>\n",
       "  <tbody>\n",
       "    <tr>\n",
       "      <th>count</th>\n",
       "      <td>29569.000000</td>\n",
       "      <td>29548.000000</td>\n",
       "      <td>29569.000000</td>\n",
       "      <td>29569.000000</td>\n",
       "      <td>29433.000000</td>\n",
       "    </tr>\n",
       "    <tr>\n",
       "      <th>mean</th>\n",
       "      <td>136075.942812</td>\n",
       "      <td>2906.050596</td>\n",
       "      <td>2006.533261</td>\n",
       "      <td>7.284859</td>\n",
       "      <td>6.991506</td>\n",
       "    </tr>\n",
       "    <tr>\n",
       "      <th>std</th>\n",
       "      <td>122889.668995</td>\n",
       "      <td>1821.604538</td>\n",
       "      <td>4.931880</td>\n",
       "      <td>3.264078</td>\n",
       "      <td>4.094900</td>\n",
       "    </tr>\n",
       "    <tr>\n",
       "      <th>min</th>\n",
       "      <td>2.000000</td>\n",
       "      <td>1.000000</td>\n",
       "      <td>1997.000000</td>\n",
       "      <td>1.000000</td>\n",
       "      <td>1.000000</td>\n",
       "    </tr>\n",
       "    <tr>\n",
       "      <th>25%</th>\n",
       "      <td>46309.000000</td>\n",
       "      <td>1518.750000</td>\n",
       "      <td>2003.000000</td>\n",
       "      <td>5.000000</td>\n",
       "      <td>4.000000</td>\n",
       "    </tr>\n",
       "    <tr>\n",
       "      <th>50%</th>\n",
       "      <td>109177.000000</td>\n",
       "      <td>2388.000000</td>\n",
       "      <td>2007.000000</td>\n",
       "      <td>7.000000</td>\n",
       "      <td>7.000000</td>\n",
       "    </tr>\n",
       "    <tr>\n",
       "      <th>75%</th>\n",
       "      <td>170020.000000</td>\n",
       "      <td>3811.000000</td>\n",
       "      <td>2011.000000</td>\n",
       "      <td>10.000000</td>\n",
       "      <td>8.000000</td>\n",
       "    </tr>\n",
       "    <tr>\n",
       "      <th>max</th>\n",
       "      <td>952223.000000</td>\n",
       "      <td>11389.000000</td>\n",
       "      <td>2015.000000</td>\n",
       "      <td>12.000000</td>\n",
       "      <td>18.000000</td>\n",
       "    </tr>\n",
       "  </tbody>\n",
       "</table>\n",
       "</div>"
      ],
      "text/plain": [
       "              padron        puerta          anio           mes           CCZ\n",
       "count   29569.000000  29548.000000  29569.000000  29569.000000  29433.000000\n",
       "mean   136075.942812   2906.050596   2006.533261      7.284859      6.991506\n",
       "std    122889.668995   1821.604538      4.931880      3.264078      4.094900\n",
       "min         2.000000      1.000000   1997.000000      1.000000      1.000000\n",
       "25%     46309.000000   1518.750000   2003.000000      5.000000      4.000000\n",
       "50%    109177.000000   2388.000000   2007.000000      7.000000      7.000000\n",
       "75%    170020.000000   3811.000000   2011.000000     10.000000      8.000000\n",
       "max    952223.000000  11389.000000   2015.000000     12.000000     18.000000"
      ]
     },
     "execution_count": 4,
     "metadata": {},
     "output_type": "execute_result"
    }
   ],
   "source": [
    "df.describe()"
   ]
  },
  {
   "cell_type": "markdown",
   "metadata": {},
   "source": [
    "Analice los datos desplegados. Comente sobre los siguientes puntos:\n",
    "* Algunos atributos considerados numéricos son en realidad categoriales, entonces las medidas desplegadas no tienen sentido.\n",
    "* Algunos atributos tienen valores faltantes, **count** nos informa de ello. ¿Es esto un problema? ¿Qué se puede hacer con los valores faltantes?\n",
    "* ¿Cómo podemos detectar valores atípicos, fuera de rango,(*outliers*) con chance de ser errores? ¿Qué hacer con ellos?"
   ]
  },
  {
   "cell_type": "markdown",
   "metadata": {},
   "source": [
    "Respuesta:"
   ]
  },
  {
   "cell_type": "markdown",
   "metadata": {},
   "source": [
    "Indique cuales son los atributos categoriales y despliegue el conjunto de valores posibles para cada uno de ellos."
   ]
  },
  {
   "cell_type": "code",
   "execution_count": 5,
   "metadata": {
    "collapsed": false
   },
   "outputs": [
    {
     "name": "stdout",
     "output_type": "stream",
     "text": [
      "Son atributos categoriales el CCZ, Mes.\n"
     ]
    }
   ],
   "source": [
    "print \"Son atributos categoriales el CCZ, Mes.\""
   ]
  },
  {
   "cell_type": "code",
   "execution_count": 6,
   "metadata": {
    "collapsed": false
   },
   "outputs": [
    {
     "name": "stdout",
     "output_type": "stream",
     "text": [
      "Mes: 1-12\n"
     ]
    },
    {
     "data": {
      "text/plain": [
       "array([ 1,  2,  3,  4,  5,  6,  7,  8,  9, 10, 11, 12])"
      ]
     },
     "execution_count": 6,
     "metadata": {},
     "output_type": "execute_result"
    }
   ],
   "source": [
    "print \"Mes: 1-12\" \n",
    "np.unique(df['mes'].values)"
   ]
  },
  {
   "cell_type": "code",
   "execution_count": 7,
   "metadata": {
    "collapsed": false,
    "scrolled": true
   },
   "outputs": [
    {
     "name": "stdout",
     "output_type": "stream",
     "text": [
      "CCZ: 1-18\n"
     ]
    },
    {
     "data": {
      "text/plain": [
       "array([  1.,   2.,   3.,   4.,   5.,   6.,   7.,   8.,   9.,  10.,  11.,\n",
       "        12.,  13.,  14.,  15.,  16.,  17.,  18.,  nan,  nan,  nan,  nan,\n",
       "        nan,  nan,  nan,  nan,  nan,  nan,  nan,  nan,  nan,  nan,  nan,\n",
       "        nan,  nan,  nan,  nan,  nan,  nan,  nan,  nan,  nan,  nan,  nan,\n",
       "        nan,  nan,  nan,  nan,  nan,  nan,  nan,  nan,  nan,  nan,  nan,\n",
       "        nan,  nan,  nan,  nan,  nan,  nan,  nan,  nan,  nan,  nan,  nan,\n",
       "        nan,  nan,  nan,  nan,  nan,  nan,  nan,  nan,  nan,  nan,  nan,\n",
       "        nan,  nan,  nan,  nan,  nan,  nan,  nan,  nan,  nan,  nan,  nan,\n",
       "        nan,  nan,  nan,  nan,  nan,  nan,  nan,  nan,  nan,  nan,  nan,\n",
       "        nan,  nan,  nan,  nan,  nan,  nan,  nan,  nan,  nan,  nan,  nan,\n",
       "        nan,  nan,  nan,  nan,  nan,  nan,  nan,  nan,  nan,  nan,  nan,\n",
       "        nan,  nan,  nan,  nan,  nan,  nan,  nan,  nan,  nan,  nan,  nan,\n",
       "        nan,  nan,  nan,  nan,  nan,  nan,  nan,  nan,  nan,  nan,  nan,\n",
       "        nan,  nan,  nan,  nan,  nan,  nan,  nan,  nan,  nan,  nan,  nan])"
      ]
     },
     "execution_count": 7,
     "metadata": {},
     "output_type": "execute_result"
    }
   ],
   "source": [
    "print \"CCZ: 1-18\"\n",
    "np.unique(df['CCZ'].values)"
   ]
  },
  {
   "cell_type": "markdown",
   "metadata": {},
   "source": [
    "### Atributos Faltantes\n",
    "Faltan valores con atributos puerta y CCZ, si estos atributos van a ser usados para la clasificacion o comparaciones ésto puede ser un problema. Se podría intentar rellenar esos campos utilizando otra información del registro, en el caso del CCZ para completarlo se podría utilizar la dirección. En el caso de la puerta como falta también la dirección se obtendrá según el padrón asociado. Si hay más de una dirección se tomará una de ellas.\n",
    "\n",
    "### Outliers\n",
    "Cuando se sabe a qué entidad de la realidad corresponde un atributo y el contexto de los datos se pueden validar los valores para buscar errores, como por ejemplo un número de puerta fraccionado, el minimo y maximo de los atributos categoriales, el minimo y maximo del año."
   ]
  },
  {
   "cell_type": "markdown",
   "metadata": {},
   "source": [
    "Elimine los permisos con datos faltantes. ¿Cuántos son?"
   ]
  },
  {
   "cell_type": "code",
   "execution_count": 8,
   "metadata": {
    "collapsed": false
   },
   "outputs": [
    {
     "name": "stdout",
     "output_type": "stream",
     "text": [
      "Cantidad de permisos con datos faltantes: 136\n"
     ]
    }
   ],
   "source": [
    "df = df[df.puerta.notnull()]\n",
    "df = df[df.CCZ.notnull()]\n",
    "print \"Cantidad de permisos con datos faltantes: \"+ str(cantidadFilasOriginal - len(df.index))"
   ]
  },
  {
   "cell_type": "markdown",
   "metadata": {},
   "source": [
    "Imprima un resumen de sus datos, mostrando los nombres de las atributos y las 1eras y últimas filas"
   ]
  },
  {
   "cell_type": "code",
   "execution_count": 9,
   "metadata": {
    "collapsed": false
   },
   "outputs": [
    {
     "data": {
      "text/html": [
       "<div>\n",
       "<table border=\"1\" class=\"dataframe\">\n",
       "  <thead>\n",
       "    <tr style=\"text-align: right;\">\n",
       "      <th></th>\n",
       "      <th>padron</th>\n",
       "      <th>destino</th>\n",
       "      <th>area</th>\n",
       "      <th>calle</th>\n",
       "      <th>puerta</th>\n",
       "      <th>letra</th>\n",
       "      <th>anio</th>\n",
       "      <th>mes</th>\n",
       "      <th>expediente</th>\n",
       "      <th>tipo_obra</th>\n",
       "      <th>CCZ</th>\n",
       "    </tr>\n",
       "  </thead>\n",
       "  <tbody>\n",
       "    <tr>\n",
       "      <th>0</th>\n",
       "      <td>2640</td>\n",
       "      <td>Comercio                                      ...</td>\n",
       "      <td>13,7</td>\n",
       "      <td>PIEDRAS                                       ...</td>\n",
       "      <td>234</td>\n",
       "      <td></td>\n",
       "      <td>2007</td>\n",
       "      <td>2</td>\n",
       "      <td>4113-017964-06                                ...</td>\n",
       "      <td>Obra Nueva                                    ...</td>\n",
       "      <td>1</td>\n",
       "    </tr>\n",
       "    <tr>\n",
       "      <th>1</th>\n",
       "      <td>2640</td>\n",
       "      <td>Comercio                                      ...</td>\n",
       "      <td>190</td>\n",
       "      <td>PIEDRAS                                       ...</td>\n",
       "      <td>234</td>\n",
       "      <td></td>\n",
       "      <td>2007</td>\n",
       "      <td>2</td>\n",
       "      <td>4113-017964-06                                ...</td>\n",
       "      <td>Reforma                                       ...</td>\n",
       "      <td>1</td>\n",
       "    </tr>\n",
       "    <tr>\n",
       "      <th>2</th>\n",
       "      <td>2640</td>\n",
       "      <td>Comercio                                      ...</td>\n",
       "      <td>230</td>\n",
       "      <td>PIEDRAS                                       ...</td>\n",
       "      <td>234</td>\n",
       "      <td></td>\n",
       "      <td>2007</td>\n",
       "      <td>2</td>\n",
       "      <td>4113-017964-06                                ...</td>\n",
       "      <td>Regularizacion - A̱o                          ...</td>\n",
       "      <td>1</td>\n",
       "    </tr>\n",
       "    <tr>\n",
       "      <th>3</th>\n",
       "      <td>3862</td>\n",
       "      <td>Comercio                                      ...</td>\n",
       "      <td>3333</td>\n",
       "      <td>BUENOS AIRES                                  ...</td>\n",
       "      <td>332</td>\n",
       "      <td></td>\n",
       "      <td>2010</td>\n",
       "      <td>11</td>\n",
       "      <td>4113-013613-09                                ...</td>\n",
       "      <td>Obra Nueva                                    ...</td>\n",
       "      <td>1</td>\n",
       "    </tr>\n",
       "    <tr>\n",
       "      <th>4</th>\n",
       "      <td>4173</td>\n",
       "      <td>Otros                                         ...</td>\n",
       "      <td>3602</td>\n",
       "      <td>SARANDI                                       ...</td>\n",
       "      <td>468</td>\n",
       "      <td></td>\n",
       "      <td>2005</td>\n",
       "      <td>12</td>\n",
       "      <td>4113-016255-05                                ...</td>\n",
       "      <td>Reforma                                       ...</td>\n",
       "      <td>1</td>\n",
       "    </tr>\n",
       "    <tr>\n",
       "      <th>5</th>\n",
       "      <td>4926</td>\n",
       "      <td>Otros                                         ...</td>\n",
       "      <td>1100</td>\n",
       "      <td>PAYSANDU                                      ...</td>\n",
       "      <td>833</td>\n",
       "      <td></td>\n",
       "      <td>2007</td>\n",
       "      <td>11</td>\n",
       "      <td>4113-021229-99                                ...</td>\n",
       "      <td>Regularizacion - A̱o                          ...</td>\n",
       "      <td>1</td>\n",
       "    </tr>\n",
       "    <tr>\n",
       "      <th>6</th>\n",
       "      <td>4937</td>\n",
       "      <td>Vivienda                                      ...</td>\n",
       "      <td>46</td>\n",
       "      <td>CERRO LARGO                                   ...</td>\n",
       "      <td>806</td>\n",
       "      <td></td>\n",
       "      <td>2007</td>\n",
       "      <td>7</td>\n",
       "      <td>4113-009783-07                                ...</td>\n",
       "      <td>Obra Nueva                                    ...</td>\n",
       "      <td>1</td>\n",
       "    </tr>\n",
       "    <tr>\n",
       "      <th>7</th>\n",
       "      <td>4937</td>\n",
       "      <td>Vivienda                                      ...</td>\n",
       "      <td>50</td>\n",
       "      <td>CERRO LARGO                                   ...</td>\n",
       "      <td>806</td>\n",
       "      <td></td>\n",
       "      <td>2007</td>\n",
       "      <td>7</td>\n",
       "      <td>4113-009783-07                                ...</td>\n",
       "      <td>Reforma                                       ...</td>\n",
       "      <td>1</td>\n",
       "    </tr>\n",
       "    <tr>\n",
       "      <th>8</th>\n",
       "      <td>4937</td>\n",
       "      <td>Vivienda                                      ...</td>\n",
       "      <td>67</td>\n",
       "      <td>CERRO LARGO                                   ...</td>\n",
       "      <td>806</td>\n",
       "      <td></td>\n",
       "      <td>2007</td>\n",
       "      <td>7</td>\n",
       "      <td>4113-009783-07                                ...</td>\n",
       "      <td>Regularizacion - A̱o                          ...</td>\n",
       "      <td>1</td>\n",
       "    </tr>\n",
       "    <tr>\n",
       "      <th>9</th>\n",
       "      <td>4991</td>\n",
       "      <td>Comercio                                      ...</td>\n",
       "      <td>135,9</td>\n",
       "      <td>ANDES                                         ...</td>\n",
       "      <td>1437</td>\n",
       "      <td></td>\n",
       "      <td>2006</td>\n",
       "      <td>7</td>\n",
       "      <td>4113-006957-06                                ...</td>\n",
       "      <td>Obra Nueva                                    ...</td>\n",
       "      <td>1</td>\n",
       "    </tr>\n",
       "    <tr>\n",
       "      <th>10</th>\n",
       "      <td>4991</td>\n",
       "      <td>Comercio                                      ...</td>\n",
       "      <td>3135</td>\n",
       "      <td>ANDES                                         ...</td>\n",
       "      <td>1437</td>\n",
       "      <td></td>\n",
       "      <td>2010</td>\n",
       "      <td>3</td>\n",
       "      <td>4113-002326-10                                ...</td>\n",
       "      <td>Obra Nueva                                    ...</td>\n",
       "      <td>1</td>\n",
       "    </tr>\n",
       "    <tr>\n",
       "      <th>11</th>\n",
       "      <td>5106</td>\n",
       "      <td>Otros                                         ...</td>\n",
       "      <td>1519,4</td>\n",
       "      <td>ANDES                                         ...</td>\n",
       "      <td>1386</td>\n",
       "      <td></td>\n",
       "      <td>2001</td>\n",
       "      <td>11</td>\n",
       "      <td>4113-000208-99                                ...</td>\n",
       "      <td>Estacionamiento                               ...</td>\n",
       "      <td>1</td>\n",
       "    </tr>\n",
       "    <tr>\n",
       "      <th>12</th>\n",
       "      <td>5159</td>\n",
       "      <td>Comercio                                      ...</td>\n",
       "      <td>1857,35</td>\n",
       "      <td>PAYSANDU                                      ...</td>\n",
       "      <td>926</td>\n",
       "      <td></td>\n",
       "      <td>2006</td>\n",
       "      <td>9</td>\n",
       "      <td>4113-010314-06                                ...</td>\n",
       "      <td>Reforma                                       ...</td>\n",
       "      <td>1</td>\n",
       "    </tr>\n",
       "    <tr>\n",
       "      <th>13</th>\n",
       "      <td>5469</td>\n",
       "      <td>Vivienda                                      ...</td>\n",
       "      <td>1191,71</td>\n",
       "      <td>AV URUGUAY                                    ...</td>\n",
       "      <td>2</td>\n",
       "      <td></td>\n",
       "      <td>1999</td>\n",
       "      <td>2</td>\n",
       "      <td>4113-025508-98                                ...</td>\n",
       "      <td>Obra Nueva                                    ...</td>\n",
       "      <td>1</td>\n",
       "    </tr>\n",
       "    <tr>\n",
       "      <th>14</th>\n",
       "      <td>5731</td>\n",
       "      <td>Comercio                                      ...</td>\n",
       "      <td>39</td>\n",
       "      <td>CIUDADELA                                     ...</td>\n",
       "      <td>1228</td>\n",
       "      <td></td>\n",
       "      <td>2004</td>\n",
       "      <td>6</td>\n",
       "      <td>4113-005538-04                                ...</td>\n",
       "      <td>Obra Nueva                                    ...</td>\n",
       "      <td>1</td>\n",
       "    </tr>\n",
       "    <tr>\n",
       "      <th>15</th>\n",
       "      <td>5873</td>\n",
       "      <td>Comercio                                      ...</td>\n",
       "      <td>4077,82</td>\n",
       "      <td>SORIANO                                       ...</td>\n",
       "      <td>802</td>\n",
       "      <td></td>\n",
       "      <td>2009</td>\n",
       "      <td>6</td>\n",
       "      <td>4113-006883-09                                ...</td>\n",
       "      <td>Obra Nueva                                    ...</td>\n",
       "      <td>1</td>\n",
       "    </tr>\n",
       "    <tr>\n",
       "      <th>16</th>\n",
       "      <td>5911</td>\n",
       "      <td>Comercio                                      ...</td>\n",
       "      <td>193</td>\n",
       "      <td>ANDES                                         ...</td>\n",
       "      <td>1161</td>\n",
       "      <td></td>\n",
       "      <td>1999</td>\n",
       "      <td>9</td>\n",
       "      <td>4113-010625-99                                ...</td>\n",
       "      <td>Reforma                                       ...</td>\n",
       "      <td>1</td>\n",
       "    </tr>\n",
       "    <tr>\n",
       "      <th>17</th>\n",
       "      <td>5912</td>\n",
       "      <td>Comercio                                      ...</td>\n",
       "      <td>1840</td>\n",
       "      <td>ANDES                                         ...</td>\n",
       "      <td>1151</td>\n",
       "      <td></td>\n",
       "      <td>2009</td>\n",
       "      <td>7</td>\n",
       "      <td>4113-010651-99                                ...</td>\n",
       "      <td>Estacionamiento                               ...</td>\n",
       "      <td>1</td>\n",
       "    </tr>\n",
       "    <tr>\n",
       "      <th>18</th>\n",
       "      <td>5912</td>\n",
       "      <td>Comercio                                      ...</td>\n",
       "      <td>184</td>\n",
       "      <td>ANDES                                         ...</td>\n",
       "      <td>1151</td>\n",
       "      <td></td>\n",
       "      <td>2009</td>\n",
       "      <td>7</td>\n",
       "      <td>4113-010651-99                                ...</td>\n",
       "      <td>Regularizacion - A̱o                          ...</td>\n",
       "      <td>1</td>\n",
       "    </tr>\n",
       "    <tr>\n",
       "      <th>19</th>\n",
       "      <td>5912</td>\n",
       "      <td>Comercio                                      ...</td>\n",
       "      <td>274,4</td>\n",
       "      <td>ANDES                                         ...</td>\n",
       "      <td>1151</td>\n",
       "      <td></td>\n",
       "      <td>2009</td>\n",
       "      <td>8</td>\n",
       "      <td>4113-011548-09                                ...</td>\n",
       "      <td>Obra Nueva                                    ...</td>\n",
       "      <td>1</td>\n",
       "    </tr>\n",
       "    <tr>\n",
       "      <th>20</th>\n",
       "      <td>5912</td>\n",
       "      <td>Comercio                                      ...</td>\n",
       "      <td>421</td>\n",
       "      <td>ANDES                                         ...</td>\n",
       "      <td>1151</td>\n",
       "      <td></td>\n",
       "      <td>2009</td>\n",
       "      <td>8</td>\n",
       "      <td>4113-011548-09                                ...</td>\n",
       "      <td>Reforma                                       ...</td>\n",
       "      <td>1</td>\n",
       "    </tr>\n",
       "    <tr>\n",
       "      <th>21</th>\n",
       "      <td>5918</td>\n",
       "      <td>Comercio                                      ...</td>\n",
       "      <td>53,5</td>\n",
       "      <td>FLORIDA                                       ...</td>\n",
       "      <td>1156</td>\n",
       "      <td></td>\n",
       "      <td>2003</td>\n",
       "      <td>12</td>\n",
       "      <td>4113-014068-03                                ...</td>\n",
       "      <td>Obra Nueva                                    ...</td>\n",
       "      <td>1</td>\n",
       "    </tr>\n",
       "    <tr>\n",
       "      <th>22</th>\n",
       "      <td>5919</td>\n",
       "      <td>Comercio                                      ...</td>\n",
       "      <td>535</td>\n",
       "      <td>FLORIDA                                       ...</td>\n",
       "      <td>1160</td>\n",
       "      <td></td>\n",
       "      <td>2003</td>\n",
       "      <td>12</td>\n",
       "      <td>4113-014052-03                                ...</td>\n",
       "      <td>Obra Nueva                                    ...</td>\n",
       "      <td>1</td>\n",
       "    </tr>\n",
       "    <tr>\n",
       "      <th>23</th>\n",
       "      <td>7150</td>\n",
       "      <td>Comercio                                      ...</td>\n",
       "      <td>127,14</td>\n",
       "      <td>AV URUGUAY                                    ...</td>\n",
       "      <td>1</td>\n",
       "      <td></td>\n",
       "      <td>1999</td>\n",
       "      <td>10</td>\n",
       "      <td>4113-015908-98                                ...</td>\n",
       "      <td>Reforma                                       ...</td>\n",
       "      <td>1</td>\n",
       "    </tr>\n",
       "    <tr>\n",
       "      <th>24</th>\n",
       "      <td>8049</td>\n",
       "      <td>Comercio                                      ...</td>\n",
       "      <td>194</td>\n",
       "      <td>CANELONES                                     ...</td>\n",
       "      <td>1067</td>\n",
       "      <td></td>\n",
       "      <td>2005</td>\n",
       "      <td>8</td>\n",
       "      <td>4113-009064-05                                ...</td>\n",
       "      <td>Reforma                                       ...</td>\n",
       "      <td>1</td>\n",
       "    </tr>\n",
       "    <tr>\n",
       "      <th>25</th>\n",
       "      <td>8049</td>\n",
       "      <td>Comercio                                      ...</td>\n",
       "      <td>351</td>\n",
       "      <td>CANELONES                                     ...</td>\n",
       "      <td>1067</td>\n",
       "      <td></td>\n",
       "      <td>2005</td>\n",
       "      <td>8</td>\n",
       "      <td>4113-009064-05                                ...</td>\n",
       "      <td>Regularizacion - A̱o                          ...</td>\n",
       "      <td>1</td>\n",
       "    </tr>\n",
       "    <tr>\n",
       "      <th>26</th>\n",
       "      <td>8049</td>\n",
       "      <td>Comercio                                      ...</td>\n",
       "      <td>150</td>\n",
       "      <td>CANELONES                                     ...</td>\n",
       "      <td>1067</td>\n",
       "      <td></td>\n",
       "      <td>2006</td>\n",
       "      <td>11</td>\n",
       "      <td>4113-015244-06                                ...</td>\n",
       "      <td>Reforma                                       ...</td>\n",
       "      <td>1</td>\n",
       "    </tr>\n",
       "    <tr>\n",
       "      <th>27</th>\n",
       "      <td>8137</td>\n",
       "      <td>Vivienda                                      ...</td>\n",
       "      <td>255,4</td>\n",
       "      <td>PARAGUAY                                      ...</td>\n",
       "      <td>1085</td>\n",
       "      <td></td>\n",
       "      <td>2011</td>\n",
       "      <td>10</td>\n",
       "      <td>4113-010723-11                                ...</td>\n",
       "      <td>Obra Nueva                                    ...</td>\n",
       "      <td>1</td>\n",
       "    </tr>\n",
       "    <tr>\n",
       "      <th>28</th>\n",
       "      <td>8686</td>\n",
       "      <td>Vivienda                                      ...</td>\n",
       "      <td>3075,56</td>\n",
       "      <td>DR AQUILES R LANZA                            ...</td>\n",
       "      <td>1323</td>\n",
       "      <td></td>\n",
       "      <td>2008</td>\n",
       "      <td>12</td>\n",
       "      <td>4113-019271-08                                ...</td>\n",
       "      <td>Obra Nueva                                    ...</td>\n",
       "      <td>1</td>\n",
       "    </tr>\n",
       "    <tr>\n",
       "      <th>29</th>\n",
       "      <td>9009</td>\n",
       "      <td>Vivienda                                      ...</td>\n",
       "      <td>50</td>\n",
       "      <td>DR AQUILES R LANZA                            ...</td>\n",
       "      <td>1146</td>\n",
       "      <td></td>\n",
       "      <td>2008</td>\n",
       "      <td>10</td>\n",
       "      <td>4113-004196-00                                ...</td>\n",
       "      <td>Ampliacion                                    ...</td>\n",
       "      <td>1</td>\n",
       "    </tr>\n",
       "    <tr>\n",
       "      <th>...</th>\n",
       "      <td>...</td>\n",
       "      <td>...</td>\n",
       "      <td>...</td>\n",
       "      <td>...</td>\n",
       "      <td>...</td>\n",
       "      <td>...</td>\n",
       "      <td>...</td>\n",
       "      <td>...</td>\n",
       "      <td>...</td>\n",
       "      <td>...</td>\n",
       "      <td>...</td>\n",
       "    </tr>\n",
       "    <tr>\n",
       "      <th>29403</th>\n",
       "      <td>419584</td>\n",
       "      <td>Industria                                     ...</td>\n",
       "      <td>1393</td>\n",
       "      <td>CNO TOMKINSON                                 ...</td>\n",
       "      <td>4028</td>\n",
       "      <td></td>\n",
       "      <td>2012</td>\n",
       "      <td>12</td>\n",
       "      <td>4113-018516-12                                ...</td>\n",
       "      <td>Obra Nueva                                    ...</td>\n",
       "      <td>18</td>\n",
       "    </tr>\n",
       "    <tr>\n",
       "      <th>29404</th>\n",
       "      <td>419585</td>\n",
       "      <td>Otros                                         ...</td>\n",
       "      <td>1321</td>\n",
       "      <td>CNO TOMKINSON                                 ...</td>\n",
       "      <td>3258</td>\n",
       "      <td></td>\n",
       "      <td>2009</td>\n",
       "      <td>12</td>\n",
       "      <td>4113-020757-09                                ...</td>\n",
       "      <td>Obra Nueva                                    ...</td>\n",
       "      <td>18</td>\n",
       "    </tr>\n",
       "    <tr>\n",
       "      <th>29405</th>\n",
       "      <td>420021</td>\n",
       "      <td>Comercio                                      ...</td>\n",
       "      <td>195,33</td>\n",
       "      <td>LOMAS DE ZAMORA                               ...</td>\n",
       "      <td>1</td>\n",
       "      <td></td>\n",
       "      <td>2004</td>\n",
       "      <td>12</td>\n",
       "      <td>4113-015138-04                                ...</td>\n",
       "      <td>Obra Nueva                                    ...</td>\n",
       "      <td>18</td>\n",
       "    </tr>\n",
       "    <tr>\n",
       "      <th>29406</th>\n",
       "      <td>420334</td>\n",
       "      <td>Comercio                                      ...</td>\n",
       "      <td>96</td>\n",
       "      <td>CNO DE LAS TROPAS                             ...</td>\n",
       "      <td>2224</td>\n",
       "      <td></td>\n",
       "      <td>2004</td>\n",
       "      <td>5</td>\n",
       "      <td>4113-003897-04                                ...</td>\n",
       "      <td>Obra Nueva                                    ...</td>\n",
       "      <td>18</td>\n",
       "    </tr>\n",
       "    <tr>\n",
       "      <th>29407</th>\n",
       "      <td>420340</td>\n",
       "      <td>Industria                                     ...</td>\n",
       "      <td>591</td>\n",
       "      <td>CNO DE LOS ALVAREZ                            ...</td>\n",
       "      <td>5675</td>\n",
       "      <td></td>\n",
       "      <td>2008</td>\n",
       "      <td>5</td>\n",
       "      <td>4113-005834-08                                ...</td>\n",
       "      <td>Obra Nueva                                    ...</td>\n",
       "      <td>18</td>\n",
       "    </tr>\n",
       "    <tr>\n",
       "      <th>29408</th>\n",
       "      <td>420340</td>\n",
       "      <td>Industria                                     ...</td>\n",
       "      <td>240</td>\n",
       "      <td>CNO DE LOS ALVAREZ                            ...</td>\n",
       "      <td>5675</td>\n",
       "      <td></td>\n",
       "      <td>2008</td>\n",
       "      <td>5</td>\n",
       "      <td>4113-005834-08                                ...</td>\n",
       "      <td>Reforma                                       ...</td>\n",
       "      <td>18</td>\n",
       "    </tr>\n",
       "    <tr>\n",
       "      <th>29409</th>\n",
       "      <td>420340</td>\n",
       "      <td>Industria                                     ...</td>\n",
       "      <td>549</td>\n",
       "      <td>CNO DE LOS ALVAREZ                            ...</td>\n",
       "      <td>5675</td>\n",
       "      <td></td>\n",
       "      <td>2008</td>\n",
       "      <td>5</td>\n",
       "      <td>4113-005834-08                                ...</td>\n",
       "      <td>Regularizacion - A̱o                          ...</td>\n",
       "      <td>18</td>\n",
       "    </tr>\n",
       "    <tr>\n",
       "      <th>29410</th>\n",
       "      <td>420401</td>\n",
       "      <td>Vivienda                                      ...</td>\n",
       "      <td>84,4</td>\n",
       "      <td>LAS ARTES                                     ...</td>\n",
       "      <td>2450</td>\n",
       "      <td></td>\n",
       "      <td>2007</td>\n",
       "      <td>12</td>\n",
       "      <td>4113-018526-07                                ...</td>\n",
       "      <td>Obra Nueva                                    ...</td>\n",
       "      <td>18</td>\n",
       "    </tr>\n",
       "    <tr>\n",
       "      <th>29411</th>\n",
       "      <td>420401</td>\n",
       "      <td>Otros                                         ...</td>\n",
       "      <td>62,6</td>\n",
       "      <td>LAS ARTES                                     ...</td>\n",
       "      <td>2450</td>\n",
       "      <td></td>\n",
       "      <td>2015</td>\n",
       "      <td>3</td>\n",
       "      <td>4113-001763-15                                ...</td>\n",
       "      <td>Obra Nueva                                    ...</td>\n",
       "      <td>18</td>\n",
       "    </tr>\n",
       "    <tr>\n",
       "      <th>29412</th>\n",
       "      <td>420532</td>\n",
       "      <td>Comercio                                      ...</td>\n",
       "      <td>3084,44</td>\n",
       "      <td>CNO MANUEL M FLORES                           ...</td>\n",
       "      <td>7999</td>\n",
       "      <td></td>\n",
       "      <td>2011</td>\n",
       "      <td>7</td>\n",
       "      <td>4113-008310-11                                ...</td>\n",
       "      <td>Obra Nueva                                    ...</td>\n",
       "      <td>18</td>\n",
       "    </tr>\n",
       "    <tr>\n",
       "      <th>29413</th>\n",
       "      <td>420532</td>\n",
       "      <td>Comercio                                      ...</td>\n",
       "      <td>60,5</td>\n",
       "      <td>CNO MANUEL M FLORES                           ...</td>\n",
       "      <td>7999</td>\n",
       "      <td></td>\n",
       "      <td>2011</td>\n",
       "      <td>7</td>\n",
       "      <td>4113-008310-11                                ...</td>\n",
       "      <td>Regularizacion - A̱o                          ...</td>\n",
       "      <td>18</td>\n",
       "    </tr>\n",
       "    <tr>\n",
       "      <th>29414</th>\n",
       "      <td>421777</td>\n",
       "      <td>Industria                                     ...</td>\n",
       "      <td>1300</td>\n",
       "      <td>CNO MANUEL M FLORES                           ...</td>\n",
       "      <td>6835</td>\n",
       "      <td></td>\n",
       "      <td>2010</td>\n",
       "      <td>6</td>\n",
       "      <td>4113-006556-10                                ...</td>\n",
       "      <td>Obra Nueva                                    ...</td>\n",
       "      <td>18</td>\n",
       "    </tr>\n",
       "    <tr>\n",
       "      <th>29415</th>\n",
       "      <td>422515</td>\n",
       "      <td>Comercio                                      ...</td>\n",
       "      <td>464,5</td>\n",
       "      <td>CNO TOMKINSON                                 ...</td>\n",
       "      <td>2662</td>\n",
       "      <td></td>\n",
       "      <td>2010</td>\n",
       "      <td>2</td>\n",
       "      <td>4113-018260-09                                ...</td>\n",
       "      <td>Obra Nueva                                    ...</td>\n",
       "      <td>18</td>\n",
       "    </tr>\n",
       "    <tr>\n",
       "      <th>29416</th>\n",
       "      <td>422515</td>\n",
       "      <td>Comercio                                      ...</td>\n",
       "      <td>84,4</td>\n",
       "      <td>CNO TOMKINSON                                 ...</td>\n",
       "      <td>2662</td>\n",
       "      <td></td>\n",
       "      <td>2010</td>\n",
       "      <td>2</td>\n",
       "      <td>4113-018260-09                                ...</td>\n",
       "      <td>Reforma                                       ...</td>\n",
       "      <td>18</td>\n",
       "    </tr>\n",
       "    <tr>\n",
       "      <th>29417</th>\n",
       "      <td>422515</td>\n",
       "      <td>Comercio                                      ...</td>\n",
       "      <td>51,2</td>\n",
       "      <td>CNO TOMKINSON                                 ...</td>\n",
       "      <td>2662</td>\n",
       "      <td></td>\n",
       "      <td>2010</td>\n",
       "      <td>2</td>\n",
       "      <td>4113-018260-09                                ...</td>\n",
       "      <td>Regularizacion - A̱o                          ...</td>\n",
       "      <td>18</td>\n",
       "    </tr>\n",
       "    <tr>\n",
       "      <th>29418</th>\n",
       "      <td>423115</td>\n",
       "      <td>Comercio                                      ...</td>\n",
       "      <td>5100</td>\n",
       "      <td>CNO MANUEL M FLORES                           ...</td>\n",
       "      <td>6970</td>\n",
       "      <td></td>\n",
       "      <td>2009</td>\n",
       "      <td>5</td>\n",
       "      <td>4113-005476-09                                ...</td>\n",
       "      <td>Obra Nueva                                    ...</td>\n",
       "      <td>18</td>\n",
       "    </tr>\n",
       "    <tr>\n",
       "      <th>29419</th>\n",
       "      <td>425402</td>\n",
       "      <td>Comercio                                      ...</td>\n",
       "      <td>171,5</td>\n",
       "      <td>AV LUIS BATLLE BERRES                         ...</td>\n",
       "      <td>6620</td>\n",
       "      <td></td>\n",
       "      <td>2011</td>\n",
       "      <td>7</td>\n",
       "      <td>4113-008200-11                                ...</td>\n",
       "      <td>Obra Nueva                                    ...</td>\n",
       "      <td>18</td>\n",
       "    </tr>\n",
       "    <tr>\n",
       "      <th>29420</th>\n",
       "      <td>425402</td>\n",
       "      <td>Comercio                                      ...</td>\n",
       "      <td>129,6</td>\n",
       "      <td>AV LUIS BATLLE BERRES                         ...</td>\n",
       "      <td>6620</td>\n",
       "      <td></td>\n",
       "      <td>2011</td>\n",
       "      <td>7</td>\n",
       "      <td>4113-008200-11                                ...</td>\n",
       "      <td>Regularizacion - A̱o                          ...</td>\n",
       "      <td>18</td>\n",
       "    </tr>\n",
       "    <tr>\n",
       "      <th>29421</th>\n",
       "      <td>425634</td>\n",
       "      <td>Comercio                                      ...</td>\n",
       "      <td>153</td>\n",
       "      <td>CNO TOMKINSON                                 ...</td>\n",
       "      <td>2493</td>\n",
       "      <td>BIS</td>\n",
       "      <td>2015</td>\n",
       "      <td>2</td>\n",
       "      <td>4113-016138-14                                ...</td>\n",
       "      <td>Reforma                                       ...</td>\n",
       "      <td>18</td>\n",
       "    </tr>\n",
       "    <tr>\n",
       "      <th>29422</th>\n",
       "      <td>425634</td>\n",
       "      <td>Comercio                                      ...</td>\n",
       "      <td>323,63</td>\n",
       "      <td>CNO TOMKINSON                                 ...</td>\n",
       "      <td>2493</td>\n",
       "      <td>BIS</td>\n",
       "      <td>2015</td>\n",
       "      <td>2</td>\n",
       "      <td>4113-016138-14                                ...</td>\n",
       "      <td>Regularizacion - A̱o                          ...</td>\n",
       "      <td>18</td>\n",
       "    </tr>\n",
       "    <tr>\n",
       "      <th>29423</th>\n",
       "      <td>425746</td>\n",
       "      <td>Otros                                         ...</td>\n",
       "      <td>484</td>\n",
       "      <td>CNO O�HIGGINS                                 ...</td>\n",
       "      <td>9776</td>\n",
       "      <td></td>\n",
       "      <td>2013</td>\n",
       "      <td>11</td>\n",
       "      <td>4113-013872-13                                ...</td>\n",
       "      <td>Demolicion                                    ...</td>\n",
       "      <td>18</td>\n",
       "    </tr>\n",
       "    <tr>\n",
       "      <th>29424</th>\n",
       "      <td>425746</td>\n",
       "      <td>Otros                                         ...</td>\n",
       "      <td>1261</td>\n",
       "      <td>CNO O�HIGGINS                                 ...</td>\n",
       "      <td>9776</td>\n",
       "      <td></td>\n",
       "      <td>2013</td>\n",
       "      <td>11</td>\n",
       "      <td>4113-013872-13                                ...</td>\n",
       "      <td>Obra Nueva                                    ...</td>\n",
       "      <td>18</td>\n",
       "    </tr>\n",
       "    <tr>\n",
       "      <th>29425</th>\n",
       "      <td>425746</td>\n",
       "      <td>Otros                                         ...</td>\n",
       "      <td>33</td>\n",
       "      <td>CNO O�HIGGINS                                 ...</td>\n",
       "      <td>9776</td>\n",
       "      <td></td>\n",
       "      <td>2013</td>\n",
       "      <td>11</td>\n",
       "      <td>4113-013872-13                                ...</td>\n",
       "      <td>Reforma                                       ...</td>\n",
       "      <td>18</td>\n",
       "    </tr>\n",
       "    <tr>\n",
       "      <th>29426</th>\n",
       "      <td>425746</td>\n",
       "      <td>Otros                                         ...</td>\n",
       "      <td>859,6</td>\n",
       "      <td>CNO O�HIGGINS                                 ...</td>\n",
       "      <td>9776</td>\n",
       "      <td></td>\n",
       "      <td>2013</td>\n",
       "      <td>11</td>\n",
       "      <td>4113-013872-13                                ...</td>\n",
       "      <td>Regularizacion - A̱o                          ...</td>\n",
       "      <td>18</td>\n",
       "    </tr>\n",
       "    <tr>\n",
       "      <th>29427</th>\n",
       "      <td>426454</td>\n",
       "      <td>Vivienda                                      ...</td>\n",
       "      <td>1895</td>\n",
       "      <td>AV LUIS BATLLE BERRES                         ...</td>\n",
       "      <td>5794</td>\n",
       "      <td></td>\n",
       "      <td>2014</td>\n",
       "      <td>7</td>\n",
       "      <td>4113-008619-14                                ...</td>\n",
       "      <td>Obra Nueva                                    ...</td>\n",
       "      <td>18</td>\n",
       "    </tr>\n",
       "    <tr>\n",
       "      <th>29428</th>\n",
       "      <td>427644</td>\n",
       "      <td>Otros                                         ...</td>\n",
       "      <td>772</td>\n",
       "      <td>AV LUIS BATLLE BERRES                         ...</td>\n",
       "      <td>6411</td>\n",
       "      <td></td>\n",
       "      <td>2015</td>\n",
       "      <td>6</td>\n",
       "      <td>4113-006667-15                                ...</td>\n",
       "      <td>Obra Nueva                                    ...</td>\n",
       "      <td>18</td>\n",
       "    </tr>\n",
       "    <tr>\n",
       "      <th>29429</th>\n",
       "      <td>422430</td>\n",
       "      <td>Comercio                                      ...</td>\n",
       "      <td>4835</td>\n",
       "      <td>AV LUIS BATLLE BERRES                         ...</td>\n",
       "      <td>7140</td>\n",
       "      <td></td>\n",
       "      <td>2009</td>\n",
       "      <td>6</td>\n",
       "      <td>4113-007604-09                                ...</td>\n",
       "      <td>Obra Nueva                                    ...</td>\n",
       "      <td>18</td>\n",
       "    </tr>\n",
       "    <tr>\n",
       "      <th>29430</th>\n",
       "      <td>422430</td>\n",
       "      <td>Industria                                     ...</td>\n",
       "      <td>278</td>\n",
       "      <td>AV LUIS BATLLE BERRES                         ...</td>\n",
       "      <td>7140</td>\n",
       "      <td></td>\n",
       "      <td>2014</td>\n",
       "      <td>7</td>\n",
       "      <td>4113-003322-14                                ...</td>\n",
       "      <td>Regularizacion - A̱o                          ...</td>\n",
       "      <td>18</td>\n",
       "    </tr>\n",
       "    <tr>\n",
       "      <th>29431</th>\n",
       "      <td>422496</td>\n",
       "      <td>Comercio                                      ...</td>\n",
       "      <td>2652</td>\n",
       "      <td>AV LUIS BATLLE BERRES                         ...</td>\n",
       "      <td>6171</td>\n",
       "      <td></td>\n",
       "      <td>2011</td>\n",
       "      <td>12</td>\n",
       "      <td>4113-017980-11                                ...</td>\n",
       "      <td>Obra Nueva                                    ...</td>\n",
       "      <td>18</td>\n",
       "    </tr>\n",
       "    <tr>\n",
       "      <th>29432</th>\n",
       "      <td>422496</td>\n",
       "      <td>Comercio                                      ...</td>\n",
       "      <td>1968</td>\n",
       "      <td>AV LUIS BATLLE BERRES                         ...</td>\n",
       "      <td>6171</td>\n",
       "      <td></td>\n",
       "      <td>2013</td>\n",
       "      <td>12</td>\n",
       "      <td>4113-019570-13                                ...</td>\n",
       "      <td>Obra Nueva                                    ...</td>\n",
       "      <td>18</td>\n",
       "    </tr>\n",
       "  </tbody>\n",
       "</table>\n",
       "<p>29433 rows × 11 columns</p>\n",
       "</div>"
      ],
      "text/plain": [
       "       padron                                            destino     area  \\\n",
       "0        2640  Comercio                                      ...     13,7   \n",
       "1        2640  Comercio                                      ...      190   \n",
       "2        2640  Comercio                                      ...      230   \n",
       "3        3862  Comercio                                      ...     3333   \n",
       "4        4173  Otros                                         ...     3602   \n",
       "5        4926  Otros                                         ...     1100   \n",
       "6        4937  Vivienda                                      ...       46   \n",
       "7        4937  Vivienda                                      ...       50   \n",
       "8        4937  Vivienda                                      ...       67   \n",
       "9        4991  Comercio                                      ...    135,9   \n",
       "10       4991  Comercio                                      ...     3135   \n",
       "11       5106  Otros                                         ...   1519,4   \n",
       "12       5159  Comercio                                      ...  1857,35   \n",
       "13       5469  Vivienda                                      ...  1191,71   \n",
       "14       5731  Comercio                                      ...       39   \n",
       "15       5873  Comercio                                      ...  4077,82   \n",
       "16       5911  Comercio                                      ...      193   \n",
       "17       5912  Comercio                                      ...     1840   \n",
       "18       5912  Comercio                                      ...      184   \n",
       "19       5912  Comercio                                      ...    274,4   \n",
       "20       5912  Comercio                                      ...      421   \n",
       "21       5918  Comercio                                      ...     53,5   \n",
       "22       5919  Comercio                                      ...      535   \n",
       "23       7150  Comercio                                      ...   127,14   \n",
       "24       8049  Comercio                                      ...      194   \n",
       "25       8049  Comercio                                      ...      351   \n",
       "26       8049  Comercio                                      ...      150   \n",
       "27       8137  Vivienda                                      ...    255,4   \n",
       "28       8686  Vivienda                                      ...  3075,56   \n",
       "29       9009  Vivienda                                      ...       50   \n",
       "...       ...                                                ...      ...   \n",
       "29403  419584  Industria                                     ...     1393   \n",
       "29404  419585  Otros                                         ...     1321   \n",
       "29405  420021  Comercio                                      ...   195,33   \n",
       "29406  420334  Comercio                                      ...       96   \n",
       "29407  420340  Industria                                     ...      591   \n",
       "29408  420340  Industria                                     ...      240   \n",
       "29409  420340  Industria                                     ...      549   \n",
       "29410  420401  Vivienda                                      ...     84,4   \n",
       "29411  420401  Otros                                         ...     62,6   \n",
       "29412  420532  Comercio                                      ...  3084,44   \n",
       "29413  420532  Comercio                                      ...     60,5   \n",
       "29414  421777  Industria                                     ...     1300   \n",
       "29415  422515  Comercio                                      ...    464,5   \n",
       "29416  422515  Comercio                                      ...     84,4   \n",
       "29417  422515  Comercio                                      ...     51,2   \n",
       "29418  423115  Comercio                                      ...     5100   \n",
       "29419  425402  Comercio                                      ...    171,5   \n",
       "29420  425402  Comercio                                      ...    129,6   \n",
       "29421  425634  Comercio                                      ...      153   \n",
       "29422  425634  Comercio                                      ...   323,63   \n",
       "29423  425746  Otros                                         ...      484   \n",
       "29424  425746  Otros                                         ...     1261   \n",
       "29425  425746  Otros                                         ...       33   \n",
       "29426  425746  Otros                                         ...    859,6   \n",
       "29427  426454  Vivienda                                      ...     1895   \n",
       "29428  427644  Otros                                         ...      772   \n",
       "29429  422430  Comercio                                      ...     4835   \n",
       "29430  422430  Industria                                     ...      278   \n",
       "29431  422496  Comercio                                      ...     2652   \n",
       "29432  422496  Comercio                                      ...     1968   \n",
       "\n",
       "                                                   calle  puerta  letra  anio  \\\n",
       "0      PIEDRAS                                       ...     234         2007   \n",
       "1      PIEDRAS                                       ...     234         2007   \n",
       "2      PIEDRAS                                       ...     234         2007   \n",
       "3      BUENOS AIRES                                  ...     332         2010   \n",
       "4      SARANDI                                       ...     468         2005   \n",
       "5      PAYSANDU                                      ...     833         2007   \n",
       "6      CERRO LARGO                                   ...     806         2007   \n",
       "7      CERRO LARGO                                   ...     806         2007   \n",
       "8      CERRO LARGO                                   ...     806         2007   \n",
       "9      ANDES                                         ...    1437         2006   \n",
       "10     ANDES                                         ...    1437         2010   \n",
       "11     ANDES                                         ...    1386         2001   \n",
       "12     PAYSANDU                                      ...     926         2006   \n",
       "13     AV URUGUAY                                    ...       2         1999   \n",
       "14     CIUDADELA                                     ...    1228         2004   \n",
       "15     SORIANO                                       ...     802         2009   \n",
       "16     ANDES                                         ...    1161         1999   \n",
       "17     ANDES                                         ...    1151         2009   \n",
       "18     ANDES                                         ...    1151         2009   \n",
       "19     ANDES                                         ...    1151         2009   \n",
       "20     ANDES                                         ...    1151         2009   \n",
       "21     FLORIDA                                       ...    1156         2003   \n",
       "22     FLORIDA                                       ...    1160         2003   \n",
       "23     AV URUGUAY                                    ...       1         1999   \n",
       "24     CANELONES                                     ...    1067         2005   \n",
       "25     CANELONES                                     ...    1067         2005   \n",
       "26     CANELONES                                     ...    1067         2006   \n",
       "27     PARAGUAY                                      ...    1085         2011   \n",
       "28     DR AQUILES R LANZA                            ...    1323         2008   \n",
       "29     DR AQUILES R LANZA                            ...    1146         2008   \n",
       "...                                                  ...     ...    ...   ...   \n",
       "29403  CNO TOMKINSON                                 ...    4028         2012   \n",
       "29404  CNO TOMKINSON                                 ...    3258         2009   \n",
       "29405  LOMAS DE ZAMORA                               ...       1         2004   \n",
       "29406  CNO DE LAS TROPAS                             ...    2224         2004   \n",
       "29407  CNO DE LOS ALVAREZ                            ...    5675         2008   \n",
       "29408  CNO DE LOS ALVAREZ                            ...    5675         2008   \n",
       "29409  CNO DE LOS ALVAREZ                            ...    5675         2008   \n",
       "29410  LAS ARTES                                     ...    2450         2007   \n",
       "29411  LAS ARTES                                     ...    2450         2015   \n",
       "29412  CNO MANUEL M FLORES                           ...    7999         2011   \n",
       "29413  CNO MANUEL M FLORES                           ...    7999         2011   \n",
       "29414  CNO MANUEL M FLORES                           ...    6835         2010   \n",
       "29415  CNO TOMKINSON                                 ...    2662         2010   \n",
       "29416  CNO TOMKINSON                                 ...    2662         2010   \n",
       "29417  CNO TOMKINSON                                 ...    2662         2010   \n",
       "29418  CNO MANUEL M FLORES                           ...    6970         2009   \n",
       "29419  AV LUIS BATLLE BERRES                         ...    6620         2011   \n",
       "29420  AV LUIS BATLLE BERRES                         ...    6620         2011   \n",
       "29421  CNO TOMKINSON                                 ...    2493  BIS    2015   \n",
       "29422  CNO TOMKINSON                                 ...    2493  BIS    2015   \n",
       "29423  CNO O�HIGGINS                                 ...    9776         2013   \n",
       "29424  CNO O�HIGGINS                                 ...    9776         2013   \n",
       "29425  CNO O�HIGGINS                                 ...    9776         2013   \n",
       "29426  CNO O�HIGGINS                                 ...    9776         2013   \n",
       "29427  AV LUIS BATLLE BERRES                         ...    5794         2014   \n",
       "29428  AV LUIS BATLLE BERRES                         ...    6411         2015   \n",
       "29429  AV LUIS BATLLE BERRES                         ...    7140         2009   \n",
       "29430  AV LUIS BATLLE BERRES                         ...    7140         2014   \n",
       "29431  AV LUIS BATLLE BERRES                         ...    6171         2011   \n",
       "29432  AV LUIS BATLLE BERRES                         ...    6171         2013   \n",
       "\n",
       "       mes                                         expediente  \\\n",
       "0        2  4113-017964-06                                ...   \n",
       "1        2  4113-017964-06                                ...   \n",
       "2        2  4113-017964-06                                ...   \n",
       "3       11  4113-013613-09                                ...   \n",
       "4       12  4113-016255-05                                ...   \n",
       "5       11  4113-021229-99                                ...   \n",
       "6        7  4113-009783-07                                ...   \n",
       "7        7  4113-009783-07                                ...   \n",
       "8        7  4113-009783-07                                ...   \n",
       "9        7  4113-006957-06                                ...   \n",
       "10       3  4113-002326-10                                ...   \n",
       "11      11  4113-000208-99                                ...   \n",
       "12       9  4113-010314-06                                ...   \n",
       "13       2  4113-025508-98                                ...   \n",
       "14       6  4113-005538-04                                ...   \n",
       "15       6  4113-006883-09                                ...   \n",
       "16       9  4113-010625-99                                ...   \n",
       "17       7  4113-010651-99                                ...   \n",
       "18       7  4113-010651-99                                ...   \n",
       "19       8  4113-011548-09                                ...   \n",
       "20       8  4113-011548-09                                ...   \n",
       "21      12  4113-014068-03                                ...   \n",
       "22      12  4113-014052-03                                ...   \n",
       "23      10  4113-015908-98                                ...   \n",
       "24       8  4113-009064-05                                ...   \n",
       "25       8  4113-009064-05                                ...   \n",
       "26      11  4113-015244-06                                ...   \n",
       "27      10  4113-010723-11                                ...   \n",
       "28      12  4113-019271-08                                ...   \n",
       "29      10  4113-004196-00                                ...   \n",
       "...    ...                                                ...   \n",
       "29403   12  4113-018516-12                                ...   \n",
       "29404   12  4113-020757-09                                ...   \n",
       "29405   12  4113-015138-04                                ...   \n",
       "29406    5  4113-003897-04                                ...   \n",
       "29407    5  4113-005834-08                                ...   \n",
       "29408    5  4113-005834-08                                ...   \n",
       "29409    5  4113-005834-08                                ...   \n",
       "29410   12  4113-018526-07                                ...   \n",
       "29411    3  4113-001763-15                                ...   \n",
       "29412    7  4113-008310-11                                ...   \n",
       "29413    7  4113-008310-11                                ...   \n",
       "29414    6  4113-006556-10                                ...   \n",
       "29415    2  4113-018260-09                                ...   \n",
       "29416    2  4113-018260-09                                ...   \n",
       "29417    2  4113-018260-09                                ...   \n",
       "29418    5  4113-005476-09                                ...   \n",
       "29419    7  4113-008200-11                                ...   \n",
       "29420    7  4113-008200-11                                ...   \n",
       "29421    2  4113-016138-14                                ...   \n",
       "29422    2  4113-016138-14                                ...   \n",
       "29423   11  4113-013872-13                                ...   \n",
       "29424   11  4113-013872-13                                ...   \n",
       "29425   11  4113-013872-13                                ...   \n",
       "29426   11  4113-013872-13                                ...   \n",
       "29427    7  4113-008619-14                                ...   \n",
       "29428    6  4113-006667-15                                ...   \n",
       "29429    6  4113-007604-09                                ...   \n",
       "29430    7  4113-003322-14                                ...   \n",
       "29431   12  4113-017980-11                                ...   \n",
       "29432   12  4113-019570-13                                ...   \n",
       "\n",
       "                                               tipo_obra  CCZ  \n",
       "0      Obra Nueva                                    ...    1  \n",
       "1      Reforma                                       ...    1  \n",
       "2      Regularizacion - A̱o                          ...    1  \n",
       "3      Obra Nueva                                    ...    1  \n",
       "4      Reforma                                       ...    1  \n",
       "5      Regularizacion - A̱o                          ...    1  \n",
       "6      Obra Nueva                                    ...    1  \n",
       "7      Reforma                                       ...    1  \n",
       "8      Regularizacion - A̱o                          ...    1  \n",
       "9      Obra Nueva                                    ...    1  \n",
       "10     Obra Nueva                                    ...    1  \n",
       "11     Estacionamiento                               ...    1  \n",
       "12     Reforma                                       ...    1  \n",
       "13     Obra Nueva                                    ...    1  \n",
       "14     Obra Nueva                                    ...    1  \n",
       "15     Obra Nueva                                    ...    1  \n",
       "16     Reforma                                       ...    1  \n",
       "17     Estacionamiento                               ...    1  \n",
       "18     Regularizacion - A̱o                          ...    1  \n",
       "19     Obra Nueva                                    ...    1  \n",
       "20     Reforma                                       ...    1  \n",
       "21     Obra Nueva                                    ...    1  \n",
       "22     Obra Nueva                                    ...    1  \n",
       "23     Reforma                                       ...    1  \n",
       "24     Reforma                                       ...    1  \n",
       "25     Regularizacion - A̱o                          ...    1  \n",
       "26     Reforma                                       ...    1  \n",
       "27     Obra Nueva                                    ...    1  \n",
       "28     Obra Nueva                                    ...    1  \n",
       "29     Ampliacion                                    ...    1  \n",
       "...                                                  ...  ...  \n",
       "29403  Obra Nueva                                    ...   18  \n",
       "29404  Obra Nueva                                    ...   18  \n",
       "29405  Obra Nueva                                    ...   18  \n",
       "29406  Obra Nueva                                    ...   18  \n",
       "29407  Obra Nueva                                    ...   18  \n",
       "29408  Reforma                                       ...   18  \n",
       "29409  Regularizacion - A̱o                          ...   18  \n",
       "29410  Obra Nueva                                    ...   18  \n",
       "29411  Obra Nueva                                    ...   18  \n",
       "29412  Obra Nueva                                    ...   18  \n",
       "29413  Regularizacion - A̱o                          ...   18  \n",
       "29414  Obra Nueva                                    ...   18  \n",
       "29415  Obra Nueva                                    ...   18  \n",
       "29416  Reforma                                       ...   18  \n",
       "29417  Regularizacion - A̱o                          ...   18  \n",
       "29418  Obra Nueva                                    ...   18  \n",
       "29419  Obra Nueva                                    ...   18  \n",
       "29420  Regularizacion - A̱o                          ...   18  \n",
       "29421  Reforma                                       ...   18  \n",
       "29422  Regularizacion - A̱o                          ...   18  \n",
       "29423  Demolicion                                    ...   18  \n",
       "29424  Obra Nueva                                    ...   18  \n",
       "29425  Reforma                                       ...   18  \n",
       "29426  Regularizacion - A̱o                          ...   18  \n",
       "29427  Obra Nueva                                    ...   18  \n",
       "29428  Obra Nueva                                    ...   18  \n",
       "29429  Obra Nueva                                    ...   18  \n",
       "29430  Regularizacion - A̱o                          ...   18  \n",
       "29431  Obra Nueva                                    ...   18  \n",
       "29432  Obra Nueva                                    ...   18  \n",
       "\n",
       "[29433 rows x 11 columns]"
      ]
     },
     "execution_count": 9,
     "metadata": {},
     "output_type": "execute_result"
    }
   ],
   "source": [
    "df"
   ]
  },
  {
   "cell_type": "markdown",
   "metadata": {},
   "source": [
    "**PREGUNTA:** Realice algunas conjeturas respecto a cuáles atributos están relacionados entre sí. ¿Cuáles atributos podrán ser útiles para predecir el destino de la obra? ¿Cuáles atributos eliminaría?"
   ]
  },
  {
   "cell_type": "markdown",
   "metadata": {},
   "source": [
    "**RESPUESTA:**\n",
    "\n",
    "Los datos calle, puerta, letra y CCZ tienen relación entre sí, dado que refieren a la ubicación geografica de la obra. Los datos puerta y letra por su naturaleza no parecen tener ninguna relevancia a la hora de definir el destino de la obra, la calle por si misma tampoco pare tener relevancia, sin embargo puede suceder que en calles de importancia se de mayor frecuencia de cierto destino de obras por sobre otras. La misma observación se puede realizar sobre el atributo CCZ.\n",
    "\n",
    "Ni el expediente, ni el padrón parecen tener relación entre sí ni con otro campo ni relevancia a la hora de determinar el destino de la obra.\n",
    "\n",
    "El año y el mes tampoco parecen relevantes aunque puede haber alguna distribución de datos en el tiempo que sea de interés.\n",
    "\n",
    "El tipo de obra puede tener relación con el área y ambos atributos pueden ser importantes para determinar el destino de la obra.\n",
    "\n",
    "Eliminariamos Puerta, Letra, Expediente y Padrón del conjunto de atributos.\n"
   ]
  },
  {
   "cell_type": "markdown",
   "metadata": {},
   "source": [
    "Grafique en diagrama de barras alguna variable categorial, p.ej, cantidad de permisos por CCZ."
   ]
  },
  {
   "cell_type": "code",
   "execution_count": 10,
   "metadata": {
    "collapsed": false,
    "scrolled": false
   },
   "outputs": [
    {
     "data": {
      "text/plain": [
       "2008    2088\n",
       "2005    2041\n",
       "2007    1945\n",
       "2009    1939\n",
       "2010    1884\n",
       "2006    1876\n",
       "1999    1836\n",
       "2011    1767\n",
       "2014    1742\n",
       "2004    1655\n",
       "2012    1644\n",
       "2013    1625\n",
       "2000    1622\n",
       "1998    1532\n",
       "2003    1473\n",
       "2001    1019\n",
       "2002     989\n",
       "2015     730\n",
       "1997      26\n",
       "dtype: int64"
      ]
     },
     "execution_count": 10,
     "metadata": {},
     "output_type": "execute_result"
    }
   ],
   "source": [
    "df.destino.values\n",
    "df.anio.value_counts()"
   ]
  },
  {
   "cell_type": "code",
   "execution_count": 11,
   "metadata": {
    "collapsed": false
   },
   "outputs": [
    {
     "data": {
      "text/plain": [
       "<matplotlib.text.Text at 0x7fbd74dbd710>"
      ]
     },
     "execution_count": 39,
     "metadata": {},
     "output_type": "execute_result"
    },
    {
     "data": {
      "text/plain": [
       "<matplotlib.figure.Figure at 0x7fbd7553b990>"
      ]
     },
     "metadata": {},
     "output_type": "display_data"
    },
    {
     "data": {
      "image/png": "[encoded data removed]",
      "text/plain": [
       "<matplotlib.figure.Figure at 0x7fbd99628390>"
      ]
     },
     "metadata": {},
     "output_type": "display_data"
    }
   ],
   "source": [
    "plt.figure(figsize=(6,4))\n",
    "fig, ax = plt.subplots()\n",
    "df.CCZ.value_counts().plot(kind='bar', color=\"blue\", alpha=.65)\n",
    "ax.set_xlim(-1, len(df.CCZ.value_counts())) \n",
    "plt.title(\"Cantidad de permisos por CCZ\")"
   ]
  },
  {
   "cell_type": "markdown",
   "metadata": {},
   "source": [
    "Se puede observar que la mayoría de los permisos de construcción son concedidos en los centros 5, 7 y 8 que son justamente zonas donde habita gente con más capital y por lo tanto parece lógico que ocurra ésto. El hecho de que haya gente con más capital entendemos que influye tanto para invertir en construcciones para los mismos como para otros que por más que no vivan ahí pretendan tener algún comercio por ejemplo en el cuál se cotizan más sus productos para vender."
   ]
  },
  {
   "cell_type": "markdown",
   "metadata": {},
   "source": [
    "Luego nos pareció interesante ver la relación entre los centros comunales y la proporción de cantidad de permisos asignados a los mismos en cada año."
   ]
  },
  {
   "cell_type": "code",
   "execution_count": 77,
   "metadata": {
    "collapsed": false
   },
   "outputs": [
    {
     "name": "stdout",
     "output_type": "stream",
     "text": [
      "2008    2088\n",
      "2005    2041\n",
      "2007    1945\n",
      "2009    1939\n",
      "2010    1884\n",
      "2006    1876\n",
      "1999    1836\n",
      "2011    1767\n",
      "2014    1742\n",
      "2004    1655\n",
      "2012    1644\n",
      "2013    1625\n",
      "2000    1622\n",
      "1998    1532\n",
      "2003    1473\n",
      "2001    1019\n",
      "2002     989\n",
      "2015     730\n",
      "1997      26\n",
      "dtype: int64\n"
     ]
    }
   ],
   "source": [
    "#print np.unique(df.destino.values);\n",
    "#print df.CCZ[df.destino == 'Comercio                                          '].value_counts()\n",
    "#color=cm.rainbow(np.linspace(0,1,100))\n",
    "#print color[5]\n",
    "#print df.anio.value_counts()"
   ]
  },
  {
   "cell_type": "code",
   "execution_count": 96,
   "metadata": {
    "collapsed": false
   },
   "outputs": [
    {
     "data": {
      "image/png": "[encoded data removed]",
      "text/plain": [
       "<matplotlib.figure.Figure at 0x7fbd75521a10>"
      ]
     },
     "metadata": {},
     "output_type": "display_data"
    }
   ],
   "source": [
    "# Step 2\n",
    "from matplotlib.pyplot import cm\n",
    "ax2 = fig.add_subplot(346)\n",
    "color=cm.rainbow(np.linspace(0,1,100))\n",
    "for i in np.unique(df.CCZ.values):     \n",
    "    #c=next(color))\n",
    "    df.anio[df.CCZ == i].value_counts().plot(kind='bar', color=color[i+i*3],label=i)\n",
    "ax2.set_xlim(0, len(df.anio.value_counts()))\n",
    "ax2.set_ylim(0, len(df.index))\n",
    "\n",
    "plt.legend(loc='best', bbox_to_anchor=(0.5, 1.05),\n",
    "          ncol=3, fancybox=True, shadow=True)\n",
    "plt.title(\"Cantidad de permisos segun CCZ por anio\"); \n",
    "#plt.legend(loc='best')\n",
    "#plt.legend(loc='lower right')\n",
    "plt.show()\n"
   ]
  },
  {
   "cell_type": "markdown",
   "metadata": {},
   "source": [
    "Podemos observar que se dan prácticamente las mismas proporciones de permisos por centro en cada año. Dado esto concluimos que es un indicador de que tomar en cuenta el año y el CCZ al mismo tiempo no tendría mucho sentido porque parecen estar muy relacionados."
   ]
  },
  {
   "cell_type": "markdown",
   "metadata": {},
   "source": [
    "Otra relación que estudiamos es la cantidad "
   ]
  },
  {
   "cell_type": "code",
   "execution_count": 44,
   "metadata": {
    "collapsed": false
   },
   "outputs": [
    {
     "name": "stdout",
     "output_type": "stream",
     "text": [
      "['Comercio                                          '\n",
      " 'Desconocido                                       '\n",
      " 'Industria                                         '\n",
      " 'Otros                                             '\n",
      " 'Vivienda                                          ']\n"
     ]
    }
   ],
   "source": [
    "print np.unique(df.destino.values)"
   ]
  },
  {
   "cell_type": "code",
   "execution_count": 141,
   "metadata": {
    "collapsed": false
   },
   "outputs": [
    {
     "data": {
      "text/plain": [
       "<matplotlib.figure.Figure at 0x7fbd746c7b10>"
      ]
     },
     "metadata": {},
     "output_type": "display_data"
    },
    {
     "data": {
      "image/png": "[encoded data removed]",
      "text/plain": [
       "<matplotlib.figure.Figure at 0x7fbd746c7490>"

      ]
     },
     "metadata": {},
     "output_type": "display_data"
    }
   ],
   "source": [
    "# Step 2\n",
    "figDestCCZ = plt.figure(figsize=(5000,400))\n",
    "figDestCCZ, ax3 = plt.subplots()\n",
    "ax3 = fig.add_subplot(888)\n",
    "color=cm.rainbow(np.linspace(0,1,100))\n",
    "j = 1\n",
    "for i in np.unique(df.CCZ.values):     \n",
    "    #c=next(color))\n",
    "    #print i\n",
    "    #print df.CCZ[df.destino == i].value_counts()\n",
    "    \n",
    "    fig.add_subplot(888)\n",
    "    df.destino[df.CCZ == i].value_counts().plot(kind='bar', color=color[j],label=i)\n",
    "    #print i\n",
    "    #print df.CCZ[df.destino == i]\n",
    "    #print df.CCZ[df.destino == i].value_counts()\n",
    "    j=j+5\n",
    "#ax3.set_xlim(-1, 500)\n",
    "ax3.set_ylim(1, 5000)\n",
    "\n",
    "plt.legend(loc='best', bbox_to_anchor=(0.5, 1.05),\n",
    "          ncol=3, fancybox=True, shadow=True)\n",
    "plt.title(\"Cantidad de permisos segun CCZ por anio\"); \n",
    "#plt.legend(loc='best')\n",
    "#plt.legend(loc='lower right')\n",
    "plt.show()"
   ]
  },
  {
   "cell_type": "markdown",
   "metadata": {},
   "source": [
    "Se puede apreciar que el atributo CCZ es importante ya que se pueden generalizar los destinos según el mismo. Por ejemplo para el centro 7 la mayoría de los permisos son de destino Comercio mientras que para el 6 de Vivienda."
   ]
  },
  {
   "cell_type": "markdown",
   "metadata": {},
   "source": [
    "## Extracción de atributos"
   ]
  },
  {
   "cell_type": "markdown",
   "metadata": {},
   "source": [
    "Generar un array **y** a partir de la columna **destino** . Es un atributo binario que vale 1 si el destino es 'Vivienda' y 0 en caso contrario.**y** es la clase a predecir a partir de datos de entrada"
   ]
  },
  {
   "cell_type": "code",
   "execution_count": 14,
   "metadata": {
    "collapsed": false
   },
   "outputs": [],
   "source": [
    "def destinoBool(a):\n",
    "    if (a.strip() == 'Vivienda'):\n",
    "        return 1\n",
    "    else: \n",
    "        return 0\n",
    "y = map(destinoBool,df.destino.values);"
   ]
  },
  {
   "cell_type": "markdown",
   "metadata": {},
   "source": [
    "Eliminar las columnas que considere irrelevantes.  Eliminar la columna **destino** ya que es la columna que contiene la clase que se pretende predecir:"
   ]
  },
  {
   "cell_type": "code",
   "execution_count": 15,
   "metadata": {
    "collapsed": false
   },
   "outputs": [],
   "source": [
    "df = df.drop('puerta',1)\n",
    "df = df.drop('letra',1)\n",
    "df = df.drop('expediente',1)\n",
    "#df = df.drop('padron',1)\n",
    "df = df.drop('destino',1)"
   ]
  },
  {
   "cell_type": "markdown",
   "metadata": {},
   "source": [
    " Los atributos cuyos valores son categorías ( 'tipo de obra' y 'CCZ') deben transformarse a valores numéricos para poder ser utilizados como entradas en los modelos de scikit-learn. "
   ]
  },
  {
   "cell_type": "code",
   "execution_count": 16,
   "metadata": {
    "collapsed": false
   },
   "outputs": [
    {
     "name": "stdout",
     "output_type": "stream",
     "text": [
      "Clases categoriales:  ['Ampliacion                                        '\n",
      " 'Demolicion                                        '\n",
      " 'Estacionamiento                                   '\n",
      " 'Galpon                                            '\n",
      " 'Incorporacion A.P.H.                              '\n",
      " 'Marquesina                                        '\n",
      " 'Modificacion en Obra                              '\n",
      " 'Obra Nueva                                        '\n",
      " 'Pilotaje                                          '\n",
      " 'Reciclaje                                         '\n",
      " 'Reforma                                           '\n",
      " 'Regularizacion - A\\xcc\\xb1o                              '\n",
      " 'Toldo                                             ']\n",
      "Clases enteros: [[ 0]\n",
      " [ 1]\n",
      " [ 2]\n",
      " [ 3]\n",
      " [ 4]\n",
      " [ 5]\n",
      " [ 6]\n",
      " [ 7]\n",
      " [ 8]\n",
      " [ 9]\n",
      " [10]\n",
      " [11]\n",
      " [12]]\n",
      "Nombres columnas  ['Ampl', 'Demo', 'Esta', 'Galp', 'Inco', 'Marq', 'Modi', 'Obra', 'Pilo', 'Reci', 'Refo', 'Regu', 'Told']\n",
      "Matriz de tipos  [[ 0.  0.  0. ...,  0.  0.  0.]\n",
      " [ 0.  0.  0. ...,  1.  0.  0.]\n",
      " [ 0.  0.  0. ...,  0.  1.  0.]\n",
      " ..., \n",
      " [ 0.  0.  0. ...,  0.  1.  0.]\n",
      " [ 0.  0.  0. ...,  0.  0.  0.]\n",
      " [ 0.  0.  0. ...,  0.  0.  0.]]\n"
     ]
    },
    {
     "data": {
      "text/plain": [
       "(29433, 13)"
      ]
     },
     "execution_count": 16,
     "metadata": {},
     "output_type": "execute_result"
    }
   ],
   "source": [
    "from sklearn import preprocessing\n",
    "\n",
    "tipo_enc = preprocessing.LabelEncoder();\n",
    "tipo_label_encoder = tipo_enc.fit(df.tipo_obra.values)\n",
    "print \"Clases categoriales: \",tipo_label_encoder.classes_\n",
    "integer_classes = tipo_label_encoder.transform(tipo_label_encoder.classes_).reshape(13, 1)\n",
    "print \"Clases enteros:\", integer_classes\n",
    "tipo_enc = preprocessing.OneHotEncoder()\n",
    "tipo_one_hot_encoder = tipo_enc.fit(integer_classes)\n",
    "# Primero, convertir las clases a 0-(N-1) enteros usando label_encoder\n",
    "num_of_rows = len(df.tipo_obra)\n",
    "t = tipo_label_encoder.transform(df.tipo_obra.values).reshape(num_of_rows, 1)\n",
    "# Despues, crear matriz con N columnas, cada una indicando si la instancia pertenece a la clase\n",
    "tipos = tipo_one_hot_encoder.transform(t)\n",
    "tipos_names = [x[:4] for x in tipo_label_encoder.classes_]\n",
    "print \"Nombres columnas \", tipos_names\n",
    "print \"Matriz de tipos \", tipos.toarray()\n",
    "\n",
    "# Agregar columnas a X\n",
    "X_nom = tipos_names\n",
    "X = np.concatenate([tipos.toarray()], axis = 1)\n",
    "X.shape"
   ]
  },
  {
   "cell_type": "code",
   "execution_count": 17,
   "metadata": {
    "collapsed": false
   },
   "outputs": [
    {
     "name": "stdout",
     "output_type": "stream",
     "text": [
      "Clases categoriales:  [  1.   2.   3.   4.   5.   6.   7.   8.   9.  10.  11.  12.  13.  14.  15.\n",
      "  16.  17.  18.]\n",
      "Clases enteros: [[ 0]\n",
      " [ 1]\n",
      " [ 2]\n",
      " [ 3]\n",
      " [ 4]\n",
      " [ 5]\n",
      " [ 6]\n",
      " [ 7]\n",
      " [ 8]\n",
      " [ 9]\n",
      " [10]\n",
      " [11]\n",
      " [12]\n",
      " [13]\n",
      " [14]\n",
      " [15]\n",
      " [16]\n",
      " [17]]\n",
      "Nombres columnas  ['CCZ1', 'CCZ2', 'CCZ3', 'CCZ4', 'CCZ5', 'CCZ6', 'CCZ7', 'CCZ8', 'CCZ9', 'CCZ10', 'CCZ11', 'CCZ12', 'CCZ13', 'CCZ14', 'CCZ15', 'CCZ16', 'CCZ17', 'CCZ18']\n",
      "Matriz de ccz  [[ 1.  0.  0. ...,  0.  0.  0.]\n",
      " [ 1.  0.  0. ...,  0.  0.  0.]\n",
      " [ 1.  0.  0. ...,  0.  0.  0.]\n",
      " ..., \n",
      " [ 0.  0.  0. ...,  0.  0.  1.]\n",
      " [ 0.  0.  0. ...,  0.  0.  1.]\n",
      " [ 0.  0.  0. ...,  0.  0.  1.]]\n"
     ]
    },
    {
     "data": {
      "text/plain": [
       "(29433, 31)"
      ]
     },
     "execution_count": 17,
     "metadata": {},
     "output_type": "execute_result"
    }
   ],
   "source": [
    "ccz_enc = preprocessing.LabelEncoder();\n",
    "ccz_label_encoder = ccz_enc.fit(df.CCZ.values)\n",
    "print \"Clases categoriales: \",ccz_label_encoder.classes_\n",
    "ccz_integer_classes = ccz_label_encoder.transform(ccz_label_encoder.classes_).reshape(18, 1)\n",
    "print \"Clases enteros:\", ccz_integer_classes\n",
    "ccz_enc = preprocessing.OneHotEncoder()\n",
    "ccz_one_hot_encoder = ccz_enc.fit(ccz_integer_classes)\n",
    "# Primero, convertir las clases a 0-(N-1) enteros usando label_encoder\n",
    "ccz_num_of_rows = len(df.CCZ)\n",
    "ccz_t = ccz_label_encoder.transform(df.CCZ.values).reshape(ccz_num_of_rows, 1)\n",
    "# Despues, crear matriz con N columnas, cada una indicando si la instancia pertenece a la clase\n",
    "ccz = ccz_one_hot_encoder.transform(ccz_t)\n",
    "ccz_names = ['CCZ'+str(int(x)) for x in ccz_label_encoder.classes_]\n",
    "print \"Nombres columnas \", ccz_names\n",
    "print \"Matriz de ccz \", ccz.toarray()\n",
    "\n",
    "# Agregar columnas a X\n",
    "X_nom = np.concatenate((X_nom,ccz_names), axis=0)\n",
    "X = np.concatenate([X,ccz.toarray()], axis = 1)\n",
    "X.shape"
   ]
  },
  {
   "cell_type": "code",
   "execution_count": 18,
   "metadata": {
    "collapsed": false
   },
   "outputs": [
    {
     "name": "stdout",
     "output_type": "stream",
     "text": [
      "dimensiones:  (29433, 35)\n",
      "Columnas:  ['Ampl' 'Demo' 'Esta' 'Galp' 'Inco' 'Marq' 'Modi' 'Obra' 'Pilo' 'Reci'\n",
      " 'Refo' 'Regu' 'Told' 'CCZ1' 'CCZ2' 'CCZ3' 'CCZ4' 'CCZ5' 'CCZ6' 'CCZ7'\n",
      " 'CCZ8' 'CCZ9' 'CCZ10' 'CCZ11' 'CCZ12' 'CCZ13' 'CCZ14' 'CCZ15' 'CCZ16'\n",
      " 'CCZ17' 'CCZ18' 'anio' 'mes' 'area' 'padron']\n"
     ]
    }
   ],
   "source": [
    "le_anio = preprocessing.LabelEncoder()\n",
    "anio = le_anio.fit_transform(df.anio)\n",
    "\n",
    "le_mes = preprocessing.LabelEncoder()\n",
    "mes = le_mes.fit_transform(df.mes)\n",
    "\n",
    "le_area = preprocessing.LabelEncoder()\n",
    "area = le_area.fit_transform(df.area)\n",
    "\n",
    "le_padron = preprocessing.LabelEncoder()\n",
    "padron = le_padron.fit_transform(df.padron)\n",
    "\n",
    "Y = np.concatenate([[anio],[mes],[area],[padron]],axis=0)\n",
    "Y.shape\n",
    "\n",
    "# Agregar columnas a X\n",
    "X_nom = np.concatenate((X_nom,['anio','mes','area','padron']), axis=0)\n",
    "X = np.concatenate([X,Y.T], axis = 1)\n",
    "print \"dimensiones: \", X.shape\n",
    "print \"Columnas: \",X_nom"
   ]
  },
  {
   "cell_type": "markdown",
   "metadata": {},
   "source": [
    "**PREGUNTA: Por qué no es apropiado transformar un atributo de categoría en simples índices numéricos?**"
   ]
  },
  {
   "cell_type": "markdown",
   "metadata": {},
   "source": [
    "**RESPUESTA: **\n",
    "La estandarización de datos es un requisito en la mayoría de los algoritmos de SciKit por lo que se podrían comportar de forma extraña si los datos no están distribuidos normalmente (Dist. Gaussiana) con media cero y varianza 1.\n",
    "\n",
    "Además en el caso de aributos categoriales si se usara una representación entera los algoritmos de SciKit podrían interpetar que hay cierto orden en los datos asi como el orden de la representación y eso no siempre es cierto. En el caso de tipo de obra, claramente no lo es.\n",
    "\n",
    "http://scikit-learn.org/stable/modules/preprocessing.html#label-encoding"
   ]
  },
  {
   "cell_type": "markdown",
   "metadata": {},
   "source": [
    "Utilice las clases *LabelEncoder* y *OneHotEncoder* del paquete *preprocessing* de *sklearn* para transformar los atributos de categorías en atributos numéricos. Guarde los datos de entrada en una matriz **X**."
   ]
  },
  {
   "cell_type": "code",
   "execution_count": null,
   "metadata": {
    "collapsed": false
   },
   "outputs": [],
   "source": []
  },
  {
   "cell_type": "markdown",
   "metadata": {},
   "source": [
    "**PREGUNTA**: ¿ Cuántos y cuáles son los nuevos atributos del dataset ? Muestre primeras y últimas filas."
   ]
  },
  {
   "cell_type": "markdown",
   "metadata": {},
   "source": [
    "**RESPUESTA:**"
   ]
  },
  {
   "cell_type": "code",
   "execution_count": 19,
   "metadata": {
    "collapsed": false
   },
   "outputs": [
    {
     "name": "stdout",
     "output_type": "stream",
     "text": [
      "Atributos:  ['Ampl' 'Demo' 'Esta' 'Galp' 'Inco' 'Marq' 'Modi' 'Obra' 'Pilo' 'Reci'\n",
      " 'Refo' 'Regu' 'Told' 'CCZ1' 'CCZ2' 'CCZ3' 'CCZ4' 'CCZ5' 'CCZ6' 'CCZ7'\n",
      " 'CCZ8' 'CCZ9' 'CCZ10' 'CCZ11' 'CCZ12' 'CCZ13' 'CCZ14' 'CCZ15' 'CCZ16'\n",
      " 'CCZ17' 'CCZ18' 'anio' 'mes' 'area' 'padron']\n",
      "Matriz:  [[  0.00000000e+00   0.00000000e+00   0.00000000e+00 ...,   1.00000000e+00\n",
      "    1.30100000e+03   2.72000000e+02]\n",
      " [  0.00000000e+00   0.00000000e+00   0.00000000e+00 ...,   1.00000000e+00\n",
      "    3.14000000e+03   2.72000000e+02]\n",
      " [  0.00000000e+00   0.00000000e+00   0.00000000e+00 ...,   1.00000000e+00\n",
      "    4.12500000e+03   2.72000000e+02]\n",
      " ..., \n",
      " [  0.00000000e+00   0.00000000e+00   0.00000000e+00 ...,   6.00000000e+00\n",
      "    4.94000000e+03   1.62840000e+04]\n",
      " [  0.00000000e+00   0.00000000e+00   0.00000000e+00 ...,   1.10000000e+01\n",
      "    4.75800000e+03   1.62980000e+04]\n",
      " [  0.00000000e+00   0.00000000e+00   0.00000000e+00 ...,   1.10000000e+01\n",
      "    3.26400000e+03   1.62980000e+04]]\n",
      "Dimensiones:  (29433, 35)\n"
     ]
    }
   ],
   "source": [
    "print \"Atributos: \", X_nom\n",
    "print \"Matriz: \", X\n",
    "print \"Dimensiones: \",X.shape"
   ]
  },
  {
   "cell_type": "markdown",
   "metadata": {},
   "source": [
    "## Partición de datos"
   ]
  },
  {
   "cell_type": "markdown",
   "metadata": {},
   "source": [
    "Para poder entrenar y testear un algoritmo de aprendizaje, es necesario primero particionar los datos en dos conjuntos disjuntos de entrenamiento y testeo. Separe aleatoriamente un 25% de los datos para testeo, llame a los atributos de entrada como **X_test** y al vector de salida esperado **y_test**. El 75% restante se utilizará para el entrenamiento, nombre a la matriz con los datos de entrada como **X_train** y al vector de salida correspondiente como **y_train**.\n",
    "Para esto puede utilizar la función *train_test_split* del paquete *cross_validation* de *sklearn*:"
   ]
  },
  {
   "cell_type": "code",
   "execution_count": 20,
   "metadata": {
    "collapsed": false
   },
   "outputs": [],
   "source": [
    "from sklearn.cross_validation import train_test_split\n",
    "X_train, X_test, y_train, y_test = train_test_split(X, y, test_size=0.25, random_state=33)"
   ]
  },
  {
   "cell_type": "markdown",
   "metadata": {},
   "source": [
    "Examine el tamaño de las matrices y vectores generados:"
   ]
  },
  {
   "cell_type": "code",
   "execution_count": 21,
   "metadata": {
    "collapsed": false
   },
   "outputs": [
    {
     "name": "stdout",
     "output_type": "stream",
     "text": [
      "Dimensiones X_train:  (22074, 35)\n",
      "Dimensiones X_test:  (7359, 35)\n",
      "Dimensiones y_train:  22074\n",
      "Dimensiones y_test:  7359\n"
     ]
    }
   ],
   "source": [
    "print \"Dimensiones X_train: \", X_train.shape\n",
    "print \"Dimensiones X_test: \", X_test.shape\n",
    "print \"Dimensiones y_train: \", len(y_train)\n",
    "print \"Dimensiones y_test: \", len(y_test)"
   ]
  },
  {
   "cell_type": "code",
   "execution_count": null,
   "metadata": {
    "collapsed": true
   },
   "outputs": [],
   "source": []
  },
  {
   "cell_type": "markdown",
   "metadata": {},
   "source": [
    "## Entrenamiento"
   ]
  },
  {
   "cell_type": "markdown",
   "metadata": {},
   "source": [
    "Ahora que tenemos particionados los datos en entrenamiento y testeo, podemos comenzar a entrenar los algoritmos.\n",
    "\n",
    "Genere un modelo 'dt' entrenando un algoritmo de árboles de decisión (ver el paquete *tree* de *sklearn*) con el vector de entrada X_train y el vector de salida y_train. Utilice los valores por defecto:"
   ]
  },
  {
   "cell_type": "code",
   "execution_count": 42,
   "metadata": {
    "collapsed": false
   },
   "outputs": [
    {
     "name": "stdout",
     "output_type": "stream",
     "text": [
      "numpy version: 1.8.2\n"
     ]
    },
    {
     "data": {
      "text/plain": [
       "\"import StringIO\\nimport pyparsing\\nimport pydot\\ndot_data = StringIO.StringIO() \\ntree.export_graphviz(dt,out_file=dot_data, feature_names=X_nom) \\ngraph = pydot.graph_from_dot_data(dot_data.getvalue()) \\ngraph.write_png('dt.png') \\nfrom IPython.core.display import Image \\nImage(filename='dt.png')\""
      ]
     },
     "execution_count": 42,
     "metadata": {},
     "output_type": "execute_result"
    }
   ],
   "source": [
    "from sklearn import tree\n",
    "dt = tree.DecisionTreeClassifier()\n",
    "dt = dt.fit(X_train,y_train)\n",
    "\n",
    "\n",
    "print 'numpy version:', np.__version__\n",
    "#print 'pydot version:', pydot2.__version__\n",
    "#print 'pyparsing version:', pyparsing.__version__\n",
    "\n",
    "#Veo el arbol\n",
    "'''import StringIO\n",
    "import pyparsing\n",
    "import pydot\n",
    "dot_data = StringIO.StringIO() \n",
    "tree.export_graphviz(dt,out_file=dot_data, feature_names=X_nom) \n",
    "graph = pydot.graph_from_dot_data(dot_data.getvalue()) \n",
    "graph.write_png('dt.png') \n",
    "from IPython.core.display import Image \n",
    "Image(filename='dt.png')'''"
   ]
  },
  {
   "cell_type": "markdown",
   "metadata": {},
   "source": [
    "Genere un modelo 'nb' entrenando un algoritmo de Naive Bayes (ver el paquete *naive_bayes* de *sklearn*) con el vector de entrada X_train y el vector de salida y_train. Utilice los valores por defecto:"
   ]
  },
  {
   "cell_type": "code",
   "execution_count": 23,
   "metadata": {
    "collapsed": false
   },
   "outputs": [],
   "source": [
    "from sklearn.naive_bayes import GaussianNB\n",
    "nb = GaussianNB()\n",
    "nb = nb.fit(X_train,y_train)"
   ]
  },
  {
   "cell_type": "markdown",
   "metadata": {},
   "source": [
    "Genere un modelo 'svc' entrenando un algoritmo de Support Vector Machines (ver el paquete *svm* de *sklearn*) con el vector de entrada X_train y el vector de salida y_train. Utilice los valores por defecto:"
   ]
  },
  {
   "cell_type": "code",
   "execution_count": 24,
   "metadata": {
    "collapsed": false
   },
   "outputs": [],
   "source": [
    "from sklearn.svm import SVC,LinearSVC\n",
    "svc = LinearSVC()\n",
    "svc = svc.fit(X_train,y_train) "
   ]
  },
  {
   "cell_type": "markdown",
   "metadata": {},
   "source": [
    "## Testing"
   ]
  },
  {
   "cell_type": "markdown",
   "metadata": {},
   "source": [
    "Luego de tener los modelos entrenados, podemos medir qué tan bien funcionan los modelos (su capacidad de predicción) utlizando medidas standard como accuracy, precision, recall y medida-f."
   ]
  },
  {
   "cell_type": "markdown",
   "metadata": {},
   "source": [
    "**PREGUNTA: De la definición de cada una de las medidas de perfomance (accuracy, precision, recall y medida-f)**"
   ]
  },
  {
   "cell_type": "markdown",
   "metadata": {},
   "source": [
    "**RESPUESTA:**"
   ]
  },
  {
   "cell_type": "markdown",
   "metadata": {},
   "source": [
    "Implemente una función 'imprimir_performance' que dado un vector de entrada 'X', un vector de salida 'y', y un clasificador 'clf':\n",
    "- Realice la predicción para el vector de entrada X.\n",
    "- Imprima la medida de accuracy.\n",
    "- Imprima precision, recall y medida f de cada clase.\n",
    "- Imprima la matriz de confusión.\n",
    "\n",
    "Para esto puede utilizar el paquete *metrics* de *sklearn*."
   ]
  },
  {
   "cell_type": "code",
   "execution_count": 25,
   "metadata": {
    "collapsed": false
   },
   "outputs": [],
   "source": [
    "from sklearn import metrics\n",
    "def imprimir_performance(X,y,clf):\n",
    "    y_pred=clf.predict(X)   \n",
    "    print \"Accuracy:{0:.3f}\".format(metrics.accuracy_score(y,y_pred)),\"\\n\"\n",
    "    print \"Classification report\"\n",
    "    print metrics.classification_report(y,y_pred),\"\\n\"\n",
    "    print \"Confusion matrix\"\n",
    "    print metrics.confusion_matrix(y,y_pred),\"\\n\""
   ]
  },
  {
   "cell_type": "markdown",
   "metadata": {},
   "source": [
    "Utilice la función **imprimir_performance** para imprimir las medidas de performance para el clasificador **dt** basado en árboles de decisión:"
   ]
  },
  {
   "cell_type": "code",
   "execution_count": 43,
   "metadata": {
    "collapsed": false
   },
   "outputs": [
    {
     "name": "stdout",
     "output_type": "stream",
     "text": [
      "Accuracy:0.743 \n",
      "\n",
      "Classification report\n",
      "             precision    recall  f1-score   support\n",
      "\n",
      "          0       0.56      0.55      0.55      2147\n",
      "          1       0.82      0.82      0.82      5212\n",
      "\n",
      "avg / total       0.74      0.74      0.74      7359\n",
      "\n",
      "\n",
      "Confusion matrix\n",
      "[[1177  970]\n",
      " [ 924 4288]] \n",
      "\n"
     ]
    }
   ],
   "source": [
    "imprimir_performance(X_test,y_test,dt)"
   ]
  },
  {
   "cell_type": "markdown",
   "metadata": {},
   "source": [
    "Utilice la función **imprimir_performance** para imprimir las medidas de performance para el clasificador **nb** basado en Naive Bayes:"
   ]
  },
  {
   "cell_type": "code",
   "execution_count": 27,
   "metadata": {
    "collapsed": false
   },
   "outputs": [
    {
     "name": "stdout",
     "output_type": "stream",
     "text": [
      "Accuracy:0.705 \n",
      "\n",
      "Classification report\n",
      "             precision    recall  f1-score   support\n",
      "\n",
      "          0       0.49      0.37      0.42      2147\n",
      "          1       0.76      0.84      0.80      5212\n",
      "\n",
      "avg / total       0.69      0.71      0.69      7359\n",
      "\n",
      "\n",
      "Confusion matrix\n",
      "[[ 797 1350]\n",
      " [ 818 4394]] \n",
      "\n"
     ]
    }
   ],
   "source": [
    "imprimir_performance(X_test,y_test,nb)"
   ]
  },
  {
   "cell_type": "markdown",
   "metadata": {},
   "source": [
    "Utilice la función **imprimir_performance** para imprimir las medidas de performance para el clasificador **svc** basado en Support Vector Machines:"
   ]
  },
  {
   "cell_type": "code",
   "execution_count": 28,
   "metadata": {
    "collapsed": false
   },
   "outputs": [
    {
     "name": "stdout",
     "output_type": "stream",
     "text": [
      "Accuracy:0.707 \n",
      "\n",
      "Classification report\n",
      "             precision    recall  f1-score   support\n",
      "\n",
      "          0       0.50      0.19      0.27      2147\n",
      "          1       0.73      0.92      0.82      5212\n",
      "\n",
      "avg / total       0.66      0.71      0.66      7359\n",
      "\n",
      "\n",
      "Confusion matrix\n",
      "[[ 401 1746]\n",
      " [ 407 4805]] \n",
      "\n"
     ]
    }
   ],
   "source": [
    "imprimir_performance(X_test,y_test,svc)"
   ]
  },
  {
   "cell_type": "markdown",
   "metadata": {},
   "source": [
    "**PREGUNTA: Realice un breve análisis de los resultados obtenidos.**"
   ]
  },
  {
   "cell_type": "markdown",
   "metadata": {},
   "source": [
    "**RESPUESTA:**"
   ]
  },
  {
   "cell_type": "markdown",
   "metadata": {},
   "source": [
    "## Validación cruzada"
   ]
  },
  {
   "cell_type": "markdown",
   "metadata": {},
   "source": [
    "Entrene y mida la perfomance de los clasificadores anteriores, pero ahora utilizando el algoritmo de validación cruzada (cross validation) tomando 5 particiones. Imprima el promedio de accuracy obtenido para cada modelo:"
   ]
  },
  {
   "cell_type": "code",
   "execution_count": 29,
   "metadata": {
    "collapsed": true
   },
   "outputs": [],
   "source": [
    "from sklearn.cross_validation import KFold"
   ]
  },
  {
   "cell_type": "code",
   "execution_count": 30,
   "metadata": {
    "collapsed": false
   },
   "outputs": [
    {
     "name": "stdout",
     "output_type": "stream",
     "text": [
      "[ 5887  5888  5889 ..., 29430 29431 29432] [   0    1    2 ..., 5884 5885 5886]\n",
      "[    0     1     2 ..., 29430 29431 29432] [ 5887  5888  5889 ..., 11771 11772 11773]\n",
      "[    0     1     2 ..., 29430 29431 29432] [11774 11775 11776 ..., 17658 17659 17660]\n",
      "[    0     1     2 ..., 29430 29431 29432] [17661 17662 17663 ..., 23544 23545 23546]\n",
      "[    0     1     2 ..., 23544 23545 23546] [23547 23548 23549 ..., 29430 29431 29432]\n"
     ]
    }
   ],
   "source": [
    "kf = KFold(X.shape[0], n_folds=5)\n",
    "for train, test in kf:\n",
    "    print(\"%s %s\" % (train, test))"
   ]
  },
  {
   "cell_type": "markdown",
   "metadata": {},
   "source": [
    "Validación cruzada árbol de decisión"
   ]
  },
  {
   "cell_type": "code",
   "execution_count": 44,
   "metadata": {
    "collapsed": false
   },
   "outputs": [
    {
     "name": "stdout",
     "output_type": "stream",
     "text": [
      "Media Decision Tree Cross Validation:  0.61784618354\n"
     ]
    }
   ],
   "source": [
    "from sklearn import tree,cross_validation\n",
    "dt = tree.DecisionTreeClassifier()\n",
    "\n",
    "dt_score = cross_validation.cross_val_score(dt, X, y, cv=kf, n_jobs=-1)\n",
    "print \"Media Decision Tree Cross Validation: \",dt_score.mean()"
   ]
  },
  {
   "cell_type": "markdown",
   "metadata": {},
   "source": [
    "Validación cruzada Naive Bayes"
   ]
  },
  {
   "cell_type": "code",
   "execution_count": 32,
   "metadata": {
    "collapsed": false
   },
   "outputs": [
    {
     "name": "stdout",
     "output_type": "stream",
     "text": [
      "Media Naive Bayes Cross Validation:  0.712331536034\n"
     ]
    }
   ],
   "source": [
    "from sklearn.naive_bayes import GaussianNB\n",
    "nb = GaussianNB()\n",
    "\n",
    "nb_score = cross_validation.cross_val_score(nb, X, y, cv=kf, n_jobs=-1)\n",
    "print \"Media Naive Bayes Cross Validation: \",nb_score.mean()"
   ]
  },
  {
   "cell_type": "markdown",
   "metadata": {},
   "source": [
    "Validación cruzada SVM"
   ]
  },
  {
   "cell_type": "code",
   "execution_count": 33,
   "metadata": {
    "collapsed": false
   },
   "outputs": [
    {
     "name": "stdout",
     "output_type": "stream",
     "text": [
      "Media SVM Cross Validation:  0.579834060212\n"
     ]
    }
   ],
   "source": [
    "from sklearn.svm import SVC,LinearSVC,NuSVC\n",
    "svc = LinearSVC()\n",
    "\n",
    "svc_score = cross_validation.cross_val_score(svc, X, y, cv=kf, n_jobs=-1)\n",
    "print \"Media SVM Cross Validation: \",svc_score.mean()"
   ]
  },
  {
   "cell_type": "markdown",
   "metadata": {},
   "source": [
    "**PREGUNTA: Describa brevemente cuáles son las ventajas de utilizar validación cruzada en vez de realizar una único esquema de partición como se hizo al principio.**"
   ]
  },
  {
   "cell_type": "markdown",
   "metadata": {},
   "source": [
    "**RESPUESTA:**"
   ]
  },
  {
   "cell_type": "markdown",
   "metadata": {},
   "source": [
    "## Mejorando los resultados"
   ]
  },
  {
   "cell_type": "markdown",
   "metadata": {},
   "source": [
    "Existen varias técnicas que pueden ser utilizadas para mejorar los resultados de nuestros modelos. A continuación utilizaremos técnias de **selección de atributos** y de **ajuste de hiperparámetros**."
   ]
  },
  {
   "cell_type": "markdown",
   "metadata": {},
   "source": [
    "## Selección de atributos"
   ]
  },
  {
   "cell_type": "markdown",
   "metadata": {},
   "source": [
    "En nuestros entrenamientos hemos utilizado todos los atributos disponibles para entrenar nuestros modelos. Pero no siempre esto lleva a los mejores resultados, de hecho muchas veces, trabajar con un conjunto reducido de atributos devuelve mejores resultados."
   ]
  },
  {
   "cell_type": "markdown",
   "metadata": {},
   "source": [
    "**PREGUNTA: Investigue de qué se trata la técnica de selección de atributos (feature selection) y argumente brevemente por qué puede mejorar la performance de un algoritmo de aprendizaje automático.**"
   ]
  },
  {
   "cell_type": "markdown",
   "metadata": {},
   "source": [
    "**RESPUESTA:**"
   ]
  },
  {
   "cell_type": "markdown",
   "metadata": {},
   "source": [
    "La selección de atributos es el proceso de seleccionar un subconjunto de atributos del modelo de entrenamiento con el objetivo de simplificar los modelos, acortar los tiempos de entrenamiento y favorecer la generalización por sobre la sobreestimación partiendo de la base de que los datos contienen información irrelevante o redundante que puede ser eliminada sin perder precisión."
   ]
  },
  {
   "cell_type": "markdown",
   "metadata": {},
   "source": [
    "Utilizando el paquete *feature_selection* de *sklearn*, seleccione e imprima la lista de los 10 mejores atributos según la medida estadística chi^2:"
   ]
  },
  {
   "cell_type": "code",
   "execution_count": 34,
   "metadata": {
    "collapsed": true
   },
   "outputs": [],
   "source": [
    "from sklearn.feature_selection import SelectKBest\n",
    "from sklearn.feature_selection import chi2\n",
    "\n",
    "##Definimos una funcion que selecciona los n atributos mejores y devuelve la matrix X\n",
    "##transformada para mantener dichos atributos y una lista de los nombres de estos.\n",
    "def seleccionarKmejores(X,X_nom,y,n):\n",
    "    attr = []\n",
    "    #Seleccionamos los 10 mejores\n",
    "    featureSelector = SelectKBest(chi2, k=n)\n",
    "    featureSelector.fit(X, y)\n",
    "    #Obtenemos los indices para imprimir cuales son\n",
    "    indices = list(featureSelector.get_support(indices=True))\n",
    "    for index in indices:\n",
    "        attr.append(X_nom[index]) \n",
    "    #En X_new quedan los mejores 10 atributos\n",
    "    X_new  = featureSelector.transform(X)\n",
    "    #Verifico dimensiones\n",
    "    #print X_new.shape\n",
    "    return (X_new,attr)"
   ]
  },
  {
   "cell_type": "code",
   "execution_count": 45,
   "metadata": {
    "collapsed": false
   },
   "outputs": [
    {
     "name": "stdout",
     "output_type": "stream",
     "text": [
      "['CCZ1', 'CCZ2', 'CCZ5', 'CCZ7', 'CCZ8', 'CCZ9', 'CCZ10', 'anio', 'area', 'padron']\n",
      "Media Decision Tree Cross Validation:  0.606055793904\n",
      "Media Naive Bayes Cross Validation:  0.717801434318\n",
      "Media SVM Cross Validation:  0.554090201802\n"
     ]
    }
   ],
   "source": [
    "##Evaluamos con cross validation la nueva matriz.\n",
    "mejores = seleccionarKmejores(X,X_nom,y,10)\n",
    "X_new = mejores[0]\n",
    "print mejores[1]\n",
    "\n",
    "#Veo performance\n",
    "dt10 = tree.DecisionTreeClassifier()\n",
    "dt_score10 = cross_validation.cross_val_score(dt10, X_new, y, cv=kf, n_jobs=-1)\n",
    "print \"Media Decision Tree Cross Validation: \",dt_score10.mean()\n",
    "nb10 = GaussianNB()\n",
    "nb_score10 = cross_validation.cross_val_score(nb10, X_new, y, cv=kf, n_jobs=-1)\n",
    "print \"Media Naive Bayes Cross Validation: \",nb_score10.mean()\n",
    "svc10 = LinearSVC()\n",
    "svc_score10 = cross_validation.cross_val_score(svc10, X_new, y, cv=kf, n_jobs=-1)\n",
    "print \"Media SVM Cross Validation: \",svc_score10.mean()"
   ]
  },
  {
   "cell_type": "markdown",
   "metadata": {},
   "source": [
    "Intente obtener la lista de los mejores N atributos, donde N sea la cantidad mínima posible de atributos que mantenga o mejore las medidas de performance obtenidas con validación cruzada:"
   ]
  },
  {
   "cell_type": "code",
   "execution_count": 46,
   "metadata": {
    "collapsed": false
   },
   "outputs": [
    {
     "name": "stdout",
     "output_type": "stream",
     "text": [
      "DT  0.61784618354 0.611218560035\n",
      "(False, ['padron'])\n",
      "DT  0.61784618354 0.61125248125\n",
      "(False, ['CCZ1', 'padron'])\n",
      "DT  0.61784618354 0.616145245596\n",
      "(False, ['CCZ1', 'area', 'padron'])\n",
      "DT  0.61784618354 0.619102267007\n",
      "NB  0.712331536034 0.716442276996\n",
      "SVC  0.579834060212 0.360618612825\n",
      "(False, ['CCZ1', 'CCZ8', 'area', 'padron'])\n",
      "DT  0.61784618354 0.607347085711\n",
      "(False, ['CCZ1', 'CCZ8', 'anio', 'area', 'padron'])\n",
      "DT  0.61784618354 0.595999311071\n",
      "(False, ['CCZ1', 'CCZ7', 'CCZ8', 'anio', 'area', 'padron'])\n",
      "DT  0.61784618354 0.589409285455\n",
      "(False, ['CCZ1', 'CCZ7', 'CCZ8', 'CCZ9', 'anio', 'area', 'padron'])\n",
      "DT  0.61784618354 0.592296675161\n",
      "(False, ['CCZ1', 'CCZ2', 'CCZ7', 'CCZ8', 'CCZ9', 'anio', 'area', 'padron'])\n",
      "DT  0.61784618354 0.600993781342\n",
      "(False, ['CCZ1', 'CCZ2', 'CCZ5', 'CCZ7', 'CCZ8', 'CCZ9', 'anio', 'area', 'padron'])\n",
      "DT  0.61784618354 0.606055793904\n",
      "(False, ['CCZ1', 'CCZ2', 'CCZ5', 'CCZ7', 'CCZ8', 'CCZ9', 'CCZ10', 'anio', 'area', 'padron'])\n",
      "DT  0.61784618354 0.60588531051\n",
      "(False, ['CCZ1', 'CCZ2', 'CCZ5', 'CCZ7', 'CCZ8', 'CCZ9', 'CCZ10', 'CCZ18', 'anio', 'area', 'padron'])\n",
      "DT  0.61784618354 0.618116266131\n",
      "NB  0.712331536034 0.717801434318\n",
      "SVC  0.579834060212 0.554124174963\n",
      "(False, ['CCZ1', 'CCZ2', 'CCZ5', 'CCZ7', 'CCZ8', 'CCZ9', 'CCZ10', 'CCZ11', 'CCZ18', 'anio', 'area', 'padron'])\n",
      "DT  0.61784618354 0.615499588149\n",
      "(False, ['CCZ1', 'CCZ2', 'CCZ5', 'CCZ7', 'CCZ8', 'CCZ9', 'CCZ10', 'CCZ11', 'CCZ14', 'CCZ18', 'anio', 'area', 'padron'])\n",
      "DT  0.61784618354 0.617810172913\n",
      "(False, ['CCZ1', 'CCZ2', 'CCZ3', 'CCZ5', 'CCZ7', 'CCZ8', 'CCZ9', 'CCZ10', 'CCZ11', 'CCZ14', 'CCZ18', 'anio', 'area', 'padron'])\n",
      "DT  0.61784618354 0.618285560523\n",
      "NB  0.712331536034 0.718311060596\n",
      "SVC  0.579834060212 0.554192132829\n",
      "(False, ['Marq', 'CCZ1', 'CCZ2', 'CCZ3', 'CCZ5', 'CCZ7', 'CCZ8', 'CCZ9', 'CCZ10', 'CCZ11', 'CCZ14', 'CCZ18', 'anio', 'area', 'padron'])\n",
      "DT  0.61784618354 0.618693296176\n",
      "NB  0.712331536034 0.718277087435\n",
      "SVC  0.579834060212 0.554226111762\n",
      "(False, ['Inco', 'Marq', 'CCZ1', 'CCZ2', 'CCZ3', 'CCZ5', 'CCZ7', 'CCZ8', 'CCZ9', 'CCZ10', 'CCZ11', 'CCZ14', 'CCZ18', 'anio', 'area', 'padron'])\n",
      "DT  0.61784618354 0.632353329419\n",
      "NB  0.712331536034 0.7178694095\n",
      "SVC  0.579834060212 0.554226111762\n",
      "(False, ['Inco', 'Marq', 'CCZ1', 'CCZ2', 'CCZ3', 'CCZ5', 'CCZ7', 'CCZ8', 'CCZ9', 'CCZ10', 'CCZ11', 'CCZ14', 'CCZ15', 'CCZ18', 'anio', 'area', 'padron'])\n",
      "DT  0.61784618354 0.617062861488\n",
      "(False, ['Inco', 'Marq', 'CCZ1', 'CCZ2', 'CCZ3', 'CCZ5', 'CCZ6', 'CCZ7', 'CCZ8', 'CCZ9', 'CCZ10', 'CCZ11', 'CCZ14', 'CCZ15', 'CCZ18', 'anio', 'area', 'padron'])\n",
      "DT  0.61784618354 0.621479782246\n",
      "NB  0.712331536034 0.718311060596\n",
      "SVC  0.579834060212 0.554260084924\n",
      "(False, ['Inco', 'Marq', 'CCZ1', 'CCZ2', 'CCZ3', 'CCZ5', 'CCZ6', 'CCZ7', 'CCZ8', 'CCZ9', 'CCZ10', 'CCZ11', 'CCZ14', 'CCZ15', 'CCZ17', 'CCZ18', 'anio', 'area', 'padron'])\n",
      "DT  0.61784618354 0.620426810492\n",
      "NB  0.712331536034 0.718345033757\n",
      "SVC  0.579834060212 0.720416842492\n",
      "(True, ['Inco', 'Marq', 'Refo', 'CCZ1', 'CCZ2', 'CCZ3', 'CCZ5', 'CCZ6', 'CCZ7', 'CCZ8', 'CCZ9', 'CCZ10', 'CCZ11', 'CCZ14', 'CCZ15', 'CCZ17', 'CCZ18', 'anio', 'area', 'padron'])\n",
      "La cantidad minima de atributos que mantiene o mejora la performance es:  20\n",
      "['Inco', 'Marq', 'Refo', 'CCZ1', 'CCZ2', 'CCZ3', 'CCZ5', 'CCZ6', 'CCZ7', 'CCZ8', 'CCZ9', 'CCZ10', 'CCZ11', 'CCZ14', 'CCZ15', 'CCZ17', 'CCZ18', 'anio', 'area', 'padron']\n"
     ]
    }
   ],
   "source": [
    "from sklearn.feature_selection import SelectKBest\n",
    "from sklearn.feature_selection import chi2\n",
    "\n",
    "##Devuelve true si la cantidad de atributos n mejora o iguala la performance obtenida en la validacion cruzada\n",
    "##para la matrix X original\n",
    "def esmejor(X,X_nom,y,n):\n",
    "    (X_new,attrs) = seleccionarKmejores(X,X_nom,y,n)\n",
    "    dt_new = cross_validation.cross_val_score(dt, X_new, y, cv=kf, n_jobs=-1)\n",
    "    print \"DT \",dt_score.mean(),dt_new.mean()\n",
    "    if dt_score.mean() > dt_new.mean():\n",
    "        return (False,attrs)\n",
    "           \n",
    "    nb_new = cross_validation.cross_val_score(nb, X_new, y, cv=kf, n_jobs=-1)\n",
    "    print \"NB \",nb_score.mean(),nb_new.mean()\n",
    "    if nb_score.mean() > nb_new.mean():\n",
    "        return (False,attrs)\n",
    "        \n",
    "    svc_new = cross_validation.cross_val_score(svc, X_new, y, cv=kf, n_jobs=-1)\n",
    "    print \"SVC \",svc_score.mean(),svc_new.mean()\n",
    "    if svc_score.mean() > svc_new.mean():\n",
    "        return (False,attrs)\n",
    "    \n",
    "    return (True,attrs)\n",
    "\n",
    "##Evaluo todo los posibles valores hasta que alguno mejore o iguale.\n",
    "for i in range(1, X.shape[1]):\n",
    "    mejor = esmejor(X,X_nom,y,i)\n",
    "    print mejor\n",
    "    if mejor[0]: \n",
    "        print \"La cantidad minima de atributos que mantiene o mejora la performance es: \",len(mejor[1])\n",
    "        print mejor[1]\n",
    "        break"
   ]
  },
  {
   "cell_type": "code",
   "execution_count": 47,
   "metadata": {
    "collapsed": false
   },
   "outputs": [
    {
     "name": "stdout",
     "output_type": "stream",
     "text": [
      "1 2 3 4 5 6 7 8 9 10 11 12 13 14 15 16 17 18 19 20 21 22 23 24 25 26 27 28 29 30 31 32 33 34 \n"
     ]
    },
    {
     "data": {
      "image/png": "[encoded data removed]",
      "text/plain": [
       "<matplotlib.figure.Figure at 0x7fafbc9ef090>"
      ]
     },
     "metadata": {},
     "output_type": "display_data"
    }
   ],
   "source": [
    "from sklearn import cross_validation\n",
    "import pylab as pl\n",
    "\n",
    "#grafico la media de los scores de cada algoritmo vs el numero de atributos\n",
    "def nMejorGrafica(X,y):\n",
    "    #rango de 1 a cant atributos\n",
    "    rango = range(1, X.shape[1])\n",
    "    results = [[],[],[],[]]\n",
    "    #para cada n\n",
    "    for i in rango:\n",
    "        (X_new,attrs) = seleccionarKmejores(X,X_nom,y,i)\n",
    "        #Evaluo los algoritmos con validacion cruzada\n",
    "        dt_new = cross_validation.cross_val_score(dt, X_new, y, cv=kf, n_jobs=-1)\n",
    "        nb_new = cross_validation.cross_val_score(nb, X_new, y, cv=kf, n_jobs=-1)\n",
    "        svc_new = cross_validation.cross_val_score(svc, X_new, y, cv=kf, n_jobs=-1)\n",
    "\n",
    "        #Guardo resultado\n",
    "        results[0] = np.append(results[0], dt_new.mean())\n",
    "        results[1] = np.append(results[1], nb_new.mean())\n",
    "        results[2] = np.append(results[2], svc_new.mean())\n",
    "        results[3] = attrs\n",
    "        print (i),\n",
    "\n",
    "    print \"\"\n",
    "\n",
    "    # Plot number of features VS. cross-validation scores\n",
    "\n",
    "    pl.figure()\n",
    "    pl.xlabel(\"Numero de atributos\")\n",
    "    pl.ylabel(\"Accuracy Mean)\")\n",
    "    pl.plot(rango,results[0])\n",
    "    pl.plot(rango,results[1])\n",
    "    pl.plot(rango,results[2])\n",
    "    pl.legend(['DT', 'NB', 'SVC'], loc='lower right')\n",
    "    #print \"Medias:\",results\n",
    "    \n",
    "nMejorGrafica(X,y)"
   ]
  },
  {
   "cell_type": "code",
   "execution_count": 48,
   "metadata": {
    "collapsed": false
   },
   "outputs": [
    {
     "name": "stdout",
     "output_type": "stream",
     "text": [
      "Media Decision Tree Cross Validation:  0.620426810492\n",
      "Media Naive Bayes Cross Validation:  0.718345033757\n",
      "Media SVM Cross Validation:  0.720416842492\n"
     ]
    }
   ],
   "source": [
    "from sklearn.feature_selection import SelectKBest\n",
    "from sklearn.feature_selection import chi2\n",
    "#Seleccionamos los 1 mejores\n",
    "(X_new,attrs) = seleccionarKmejores(X,X_nom,y,20)\n",
    "\n",
    "#Veo performance\n",
    "dtN = tree.DecisionTreeClassifier()\n",
    "dt_scoreN = cross_validation.cross_val_score(dtN, X_new, y, cv=kf, n_jobs=-1)\n",
    "print \"Media Decision Tree Cross Validation: \",dt_scoreN.mean()\n",
    "nbN = GaussianNB()\n",
    "nb_scoreN = cross_validation.cross_val_score(nbN, X_new, y, cv=kf, n_jobs=-1)\n",
    "print \"Media Naive Bayes Cross Validation: \",nb_scoreN.mean()\n",
    "svcN = LinearSVC()\n",
    "svc_scoreN = cross_validation.cross_val_score(svcN, X_new, y, cv=kf, n_jobs=-1)\n",
    "print \"Media SVM Cross Validation: \",svc_scoreN.mean()"
   ]
  },
  {
   "cell_type": "code",
   "execution_count": null,
   "metadata": {
    "collapsed": true
   },
   "outputs": [],
   "source": []
  },
  {
   "cell_type": "markdown",
   "metadata": {},
   "source": [
    "Con el conjunto de atributos obtenido, entrene los clasificadores nuevamente y verifique que las medidas de precision, recall mejoran en general:"
   ]
  },
  {
   "cell_type": "code",
   "execution_count": null,
   "metadata": {
    "collapsed": true
   },
   "outputs": [],
   "source": []
  },
  {
   "cell_type": "code",
   "execution_count": null,
   "metadata": {
    "collapsed": true
   },
   "outputs": [],
   "source": []
  },
  {
   "cell_type": "code",
   "execution_count": null,
   "metadata": {
    "collapsed": true
   },
   "outputs": [],
   "source": []
  },
  {
   "cell_type": "markdown",
   "metadata": {},
   "source": [
    "**PREGUNTA: Escriba las conclusiones generales que haya obtenido de la tarea.**"
   ]
  },
  {
   "cell_type": "markdown",
   "metadata": {},
   "source": [
    "**RESPUESTA:**"
   ]
  }
 ],
 "metadata": {
  "kernelspec": {
   "display_name": "Python 2",
   "language": "python",
   "name": "python2"
  },
  "language_info": {
   "codemirror_mode": {
    "name": "ipython",
    "version": 2
   },
   "file_extension": ".py",
   "mimetype": "text/x-python",
   "name": "python",
   "nbconvert_exporter": "python",
   "pygments_lexer": "ipython2",
   "version": "2.7.9"
  }
 },
 "nbformat": 4,
 "nbformat_minor": 0
}
